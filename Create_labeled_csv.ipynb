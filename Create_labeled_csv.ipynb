{
 "cells": [
  {
   "cell_type": "code",
   "execution_count": 1,
   "id": "087a412f",
   "metadata": {},
   "outputs": [],
   "source": [
    "import numpy as np\n",
    "import pandas as pd\n",
    "import cv2\n",
    "import os"
   ]
  },
  {
   "cell_type": "markdown",
   "id": "2fc6cebd",
   "metadata": {},
   "source": [
    "### Preparing Test CSV file"
   ]
  },
  {
   "cell_type": "code",
   "execution_count": 2,
   "id": "e8b1fcc4",
   "metadata": {},
   "outputs": [],
   "source": [
    "data_path = 'Processed_Data/test'\n",
    "\n",
    "data_dir_list = os.listdir(data_path)"
   ]
  },
  {
   "cell_type": "code",
   "execution_count": 3,
   "id": "35bb69b4",
   "metadata": {},
   "outputs": [
    {
     "data": {
      "text/plain": [
       "['real_test', 'fake_test']"
      ]
     },
     "execution_count": 3,
     "metadata": {},
     "output_type": "execute_result"
    }
   ],
   "source": [
    "data_dir_list"
   ]
  },
  {
   "cell_type": "code",
   "execution_count": 4,
   "id": "23c22314",
   "metadata": {},
   "outputs": [],
   "source": [
    "num_classes = 2\n",
    "labels_name = {'real': 1,'fake':0}"
   ]
  },
  {
   "cell_type": "code",
   "execution_count": null,
   "id": "d090afeb",
   "metadata": {},
   "outputs": [],
   "source": [
    "#test_df = pd.DataFrame(columns=['FaceFileName','FlowFileName','Label','ClassName'])\n",
    "\n",
    "file_path = os.path.join(data_path,data_dir_list[0])\n",
    "\n",
    "real_test_files = os.listdir(file_path)\n",
    "\n",
    "processed_frames = []\n",
    "\n",
    "real_test_paths = [os.path.join(file_path,video+'/face') for video in real_test_files]\n",
    "real_test_paths.sort()\n",
    "real_test_paths\n",
    "\n",
    "for video in real_test_paths:\n",
    "    print(f\"Processing {video}\")\n",
    "    frames = os.listdir(video)\n",
    "    frames.sort()\n",
    "    frames_path = [os.path.join(video,frame) for frame in frames]\n",
    "    for image in frames_path:\n",
    "        face_image_path = image\n",
    "        temp = image.split('/')\n",
    "        temp[-2] = 'flow' \n",
    "        flow_image_path = '/'\n",
    "        flow_image_path = flow_image_path.join(temp)\n",
    "        \n",
    "        \n",
    "        df = pd.DataFrame({'FaceFileName':[face_image_path],\n",
    "                           'FlowFileName':[flow_image_path],\n",
    "                           'Label':[labels_name['real']],\n",
    "                           'ClassName':['Real']},)\n",
    "        \n",
    "        processed_frames.append(df)"
   ]
  },
  {
   "cell_type": "code",
   "execution_count": null,
   "id": "6781ada6",
   "metadata": {},
   "outputs": [],
   "source": [
    "file_path = os.path.join(data_path,data_dir_list[1])\n",
    "fake_test_files = os.listdir(file_path)\n",
    "fake_test_paths = [os.path.join(file_path,video+'/face') for video in fake_test_files]\n",
    "fake_test_paths.sort()\n",
    "fake_test_paths\n",
    "\n",
    "for video in fake_test_paths:\n",
    "    print(f\"Processing {video}\")\n",
    "    frames = os.listdir(video)\n",
    "    frames.sort()\n",
    "    frames_path = [os.path.join(video,frame) for frame in frames]\n",
    "    for image in frames_path:\n",
    "        face_image_path = image\n",
    "        temp = image.split('/')\n",
    "        temp[-2] = 'flow' \n",
    "        flow_image_path = '/'\n",
    "        flow_image_path = flow_image_path.join(temp)\n",
    "        \n",
    "#         test_df = test_df.append({'FaceFileName':face_image_path,\n",
    "#                                   'FlowFileName':flow_image_path,\n",
    "#                                   'Label':labels_name['fake'],\n",
    "#                                   'ClassName':'Fake'},ignore_index=True)\n",
    "        df = pd.DataFrame({'FaceFileName':[face_image_path],\n",
    "                           'FlowFileName':[flow_image_path],\n",
    "                           'Label':[labels_name['fake']],\n",
    "                           'ClassName':['Feal']},)\n",
    "        \n",
    "        processed_frames.append(df)"
   ]
  },
  {
   "cell_type": "code",
   "execution_count": 8,
   "id": "f9b59702",
   "metadata": {},
   "outputs": [],
   "source": [
    "test_df = pd.concat(processed_frames,ignore_index=True)"
   ]
  },
  {
   "cell_type": "code",
   "execution_count": 9,
   "id": "b2bba5f4",
   "metadata": {},
   "outputs": [
    {
     "data": {
      "text/plain": [
       "(232526, 4)"
      ]
     },
     "execution_count": 9,
     "metadata": {},
     "output_type": "execute_result"
    }
   ],
   "source": [
    "test_df.shape"
   ]
  },
  {
   "cell_type": "code",
   "execution_count": 10,
   "id": "b4b94094",
   "metadata": {},
   "outputs": [
    {
     "data": {
      "text/html": [
       "<div>\n",
       "<style scoped>\n",
       "    .dataframe tbody tr th:only-of-type {\n",
       "        vertical-align: middle;\n",
       "    }\n",
       "\n",
       "    .dataframe tbody tr th {\n",
       "        vertical-align: top;\n",
       "    }\n",
       "\n",
       "    .dataframe thead th {\n",
       "        text-align: right;\n",
       "    }\n",
       "</style>\n",
       "<table border=\"1\" class=\"dataframe\">\n",
       "  <thead>\n",
       "    <tr style=\"text-align: right;\">\n",
       "      <th></th>\n",
       "      <th>FaceFileName</th>\n",
       "      <th>FlowFileName</th>\n",
       "      <th>Label</th>\n",
       "      <th>ClassName</th>\n",
       "    </tr>\n",
       "  </thead>\n",
       "  <tbody>\n",
       "    <tr>\n",
       "      <th>0</th>\n",
       "      <td>Processed_Data/test/real_test/real_test_0000.m...</td>\n",
       "      <td>Processed_Data/test/real_test/real_test_0000.m...</td>\n",
       "      <td>1</td>\n",
       "      <td>Real</td>\n",
       "    </tr>\n",
       "    <tr>\n",
       "      <th>1</th>\n",
       "      <td>Processed_Data/test/real_test/real_test_0000.m...</td>\n",
       "      <td>Processed_Data/test/real_test/real_test_0000.m...</td>\n",
       "      <td>1</td>\n",
       "      <td>Real</td>\n",
       "    </tr>\n",
       "    <tr>\n",
       "      <th>2</th>\n",
       "      <td>Processed_Data/test/real_test/real_test_0000.m...</td>\n",
       "      <td>Processed_Data/test/real_test/real_test_0000.m...</td>\n",
       "      <td>1</td>\n",
       "      <td>Real</td>\n",
       "    </tr>\n",
       "    <tr>\n",
       "      <th>3</th>\n",
       "      <td>Processed_Data/test/real_test/real_test_0000.m...</td>\n",
       "      <td>Processed_Data/test/real_test/real_test_0000.m...</td>\n",
       "      <td>1</td>\n",
       "      <td>Real</td>\n",
       "    </tr>\n",
       "    <tr>\n",
       "      <th>4</th>\n",
       "      <td>Processed_Data/test/real_test/real_test_0000.m...</td>\n",
       "      <td>Processed_Data/test/real_test/real_test_0000.m...</td>\n",
       "      <td>1</td>\n",
       "      <td>Real</td>\n",
       "    </tr>\n",
       "  </tbody>\n",
       "</table>\n",
       "</div>"
      ],
      "text/plain": [
       "                                        FaceFileName  \\\n",
       "0  Processed_Data/test/real_test/real_test_0000.m...   \n",
       "1  Processed_Data/test/real_test/real_test_0000.m...   \n",
       "2  Processed_Data/test/real_test/real_test_0000.m...   \n",
       "3  Processed_Data/test/real_test/real_test_0000.m...   \n",
       "4  Processed_Data/test/real_test/real_test_0000.m...   \n",
       "\n",
       "                                        FlowFileName  Label ClassName  \n",
       "0  Processed_Data/test/real_test/real_test_0000.m...      1      Real  \n",
       "1  Processed_Data/test/real_test/real_test_0000.m...      1      Real  \n",
       "2  Processed_Data/test/real_test/real_test_0000.m...      1      Real  \n",
       "3  Processed_Data/test/real_test/real_test_0000.m...      1      Real  \n",
       "4  Processed_Data/test/real_test/real_test_0000.m...      1      Real  "
      ]
     },
     "execution_count": 10,
     "metadata": {},
     "output_type": "execute_result"
    }
   ],
   "source": [
    "test_df.head()"
   ]
  },
  {
   "cell_type": "code",
   "execution_count": 11,
   "id": "b77f3d5a",
   "metadata": {},
   "outputs": [],
   "source": [
    "test_df.to_csv('data_files/test.csv')"
   ]
  },
  {
   "cell_type": "markdown",
   "id": "e4db651c",
   "metadata": {},
   "source": [
    "### Preparing Train CSV file"
   ]
  },
  {
   "cell_type": "code",
   "execution_count": 12,
   "id": "e82a1fa9",
   "metadata": {},
   "outputs": [],
   "source": [
    "data_path = 'Processed_Data/train'\n",
    "\n",
    "data_dir_list = os.listdir(data_path)"
   ]
  },
  {
   "cell_type": "code",
   "execution_count": 13,
   "id": "0023cd41",
   "metadata": {},
   "outputs": [
    {
     "data": {
      "text/plain": [
       "['real_train', 'fake_train']"
      ]
     },
     "execution_count": 13,
     "metadata": {},
     "output_type": "execute_result"
    }
   ],
   "source": [
    "data_dir_list"
   ]
  },
  {
   "cell_type": "code",
   "execution_count": 14,
   "id": "d911edad",
   "metadata": {},
   "outputs": [],
   "source": [
    "num_classes = 2\n",
    "labels_name = {'real': 1,'fake':0}"
   ]
  },
  {
   "cell_type": "code",
   "execution_count": null,
   "id": "6969e262",
   "metadata": {},
   "outputs": [],
   "source": [
    "file_path = os.path.join(data_path,data_dir_list[0])\n",
    "\n",
    "real_test_files = os.listdir(file_path)\n",
    "\n",
    "processed_frames = []\n",
    "\n",
    "real_test_paths = [os.path.join(file_path,video+'/face') for video in real_test_files]\n",
    "real_test_paths.sort()\n",
    "real_test_paths\n",
    "\n",
    "for video in real_test_paths:\n",
    "    print(f\"Processing {video}\")\n",
    "    frames = os.listdir(video)\n",
    "    frames.sort()\n",
    "    frames_path = [os.path.join(video,frame) for frame in frames]\n",
    "    for image in frames_path:\n",
    "        face_image_path = image\n",
    "        temp = image.split('/')\n",
    "        temp[-2] = 'flow' \n",
    "        flow_image_path = '/'\n",
    "        flow_image_path = flow_image_path.join(temp)\n",
    "        \n",
    "        \n",
    "        df = pd.DataFrame({'FaceFileName':[face_image_path],\n",
    "                           'FlowFileName':[flow_image_path],\n",
    "                           'Label':[labels_name['real']],\n",
    "                           'ClassName':['Real']},)\n",
    "        \n",
    "        processed_frames.append(df)"
   ]
  },
  {
   "cell_type": "code",
   "execution_count": null,
   "id": "8c7351dd",
   "metadata": {},
   "outputs": [],
   "source": [
    "file_path = os.path.join(data_path,data_dir_list[1])\n",
    "fake_test_files = os.listdir(file_path)\n",
    "fake_test_paths = [os.path.join(file_path,video+'/face') for video in fake_test_files]\n",
    "fake_test_paths.sort()\n",
    "fake_test_paths\n",
    "\n",
    "for video in fake_test_paths:\n",
    "    print(f\"Processing {video}\")\n",
    "    frames = os.listdir(video)\n",
    "    frames.sort()\n",
    "    frames_path = [os.path.join(video,frame) for frame in frames]\n",
    "    for image in frames_path:\n",
    "        face_image_path = image\n",
    "        temp = image.split('/')\n",
    "        temp[-2] = 'flow' \n",
    "        flow_image_path = '/'\n",
    "        flow_image_path = flow_image_path.join(temp)\n",
    "        \n",
    "        df = pd.DataFrame({'FaceFileName':[face_image_path],\n",
    "                           'FlowFileName':[flow_image_path],\n",
    "                           'Label':[labels_name['fake']],\n",
    "                           'ClassName':['Feal']},)\n",
    "        \n",
    "        processed_frames.append(df)"
   ]
  },
  {
   "cell_type": "code",
   "execution_count": 17,
   "id": "4c835bd3",
   "metadata": {},
   "outputs": [],
   "source": [
    "train_df = pd.concat(processed_frames,ignore_index=True)"
   ]
  },
  {
   "cell_type": "code",
   "execution_count": 18,
   "id": "a35c4448",
   "metadata": {},
   "outputs": [
    {
     "data": {
      "text/plain": [
       "(542997, 4)"
      ]
     },
     "execution_count": 18,
     "metadata": {},
     "output_type": "execute_result"
    }
   ],
   "source": [
    "train_df.shape"
   ]
  },
  {
   "cell_type": "code",
   "execution_count": 20,
   "id": "9cf942d8",
   "metadata": {},
   "outputs": [
    {
     "data": {
      "text/html": [
       "<div>\n",
       "<style scoped>\n",
       "    .dataframe tbody tr th:only-of-type {\n",
       "        vertical-align: middle;\n",
       "    }\n",
       "\n",
       "    .dataframe tbody tr th {\n",
       "        vertical-align: top;\n",
       "    }\n",
       "\n",
       "    .dataframe thead th {\n",
       "        text-align: right;\n",
       "    }\n",
       "</style>\n",
       "<table border=\"1\" class=\"dataframe\">\n",
       "  <thead>\n",
       "    <tr style=\"text-align: right;\">\n",
       "      <th></th>\n",
       "      <th>FaceFileName</th>\n",
       "      <th>FlowFileName</th>\n",
       "      <th>Label</th>\n",
       "      <th>ClassName</th>\n",
       "    </tr>\n",
       "  </thead>\n",
       "  <tbody>\n",
       "    <tr>\n",
       "      <th>0</th>\n",
       "      <td>Processed_Data/train/real_train/real_train_000...</td>\n",
       "      <td>Processed_Data/train/real_train/real_train_000...</td>\n",
       "      <td>1</td>\n",
       "      <td>Real</td>\n",
       "    </tr>\n",
       "    <tr>\n",
       "      <th>1</th>\n",
       "      <td>Processed_Data/train/real_train/real_train_000...</td>\n",
       "      <td>Processed_Data/train/real_train/real_train_000...</td>\n",
       "      <td>1</td>\n",
       "      <td>Real</td>\n",
       "    </tr>\n",
       "    <tr>\n",
       "      <th>2</th>\n",
       "      <td>Processed_Data/train/real_train/real_train_000...</td>\n",
       "      <td>Processed_Data/train/real_train/real_train_000...</td>\n",
       "      <td>1</td>\n",
       "      <td>Real</td>\n",
       "    </tr>\n",
       "    <tr>\n",
       "      <th>3</th>\n",
       "      <td>Processed_Data/train/real_train/real_train_000...</td>\n",
       "      <td>Processed_Data/train/real_train/real_train_000...</td>\n",
       "      <td>1</td>\n",
       "      <td>Real</td>\n",
       "    </tr>\n",
       "    <tr>\n",
       "      <th>4</th>\n",
       "      <td>Processed_Data/train/real_train/real_train_000...</td>\n",
       "      <td>Processed_Data/train/real_train/real_train_000...</td>\n",
       "      <td>1</td>\n",
       "      <td>Real</td>\n",
       "    </tr>\n",
       "  </tbody>\n",
       "</table>\n",
       "</div>"
      ],
      "text/plain": [
       "                                        FaceFileName  \\\n",
       "0  Processed_Data/train/real_train/real_train_000...   \n",
       "1  Processed_Data/train/real_train/real_train_000...   \n",
       "2  Processed_Data/train/real_train/real_train_000...   \n",
       "3  Processed_Data/train/real_train/real_train_000...   \n",
       "4  Processed_Data/train/real_train/real_train_000...   \n",
       "\n",
       "                                        FlowFileName  Label ClassName  \n",
       "0  Processed_Data/train/real_train/real_train_000...      1      Real  \n",
       "1  Processed_Data/train/real_train/real_train_000...      1      Real  \n",
       "2  Processed_Data/train/real_train/real_train_000...      1      Real  \n",
       "3  Processed_Data/train/real_train/real_train_000...      1      Real  \n",
       "4  Processed_Data/train/real_train/real_train_000...      1      Real  "
      ]
     },
     "execution_count": 20,
     "metadata": {},
     "output_type": "execute_result"
    }
   ],
   "source": [
    "train_df.head()"
   ]
  },
  {
   "cell_type": "code",
   "execution_count": 21,
   "id": "c37c5540",
   "metadata": {},
   "outputs": [],
   "source": [
    "train_df.to_csv('data_files/train.csv')"
   ]
  },
  {
   "cell_type": "markdown",
   "id": "ed3038fa",
   "metadata": {},
   "source": [
    "### Preparing Combined CSV for Test and Train"
   ]
  },
  {
   "cell_type": "code",
   "execution_count": 2,
   "id": "251bd8b2",
   "metadata": {},
   "outputs": [],
   "source": [
    "data_path = 'Processed_Data/test'\n",
    "\n",
    "data_dir_list = os.listdir(data_path)"
   ]
  },
  {
   "cell_type": "code",
   "execution_count": 3,
   "id": "17dc5e97",
   "metadata": {},
   "outputs": [
    {
     "data": {
      "text/plain": [
       "['real_test', 'fake_test']"
      ]
     },
     "execution_count": 3,
     "metadata": {},
     "output_type": "execute_result"
    }
   ],
   "source": [
    "data_dir_list"
   ]
  },
  {
   "cell_type": "code",
   "execution_count": 4,
   "id": "c9531665",
   "metadata": {},
   "outputs": [],
   "source": [
    "num_classes = 2\n",
    "labels_name = {'real': 1,'fake':0}"
   ]
  },
  {
   "cell_type": "code",
   "execution_count": null,
   "id": "d653909a",
   "metadata": {
    "scrolled": false
   },
   "outputs": [],
   "source": [
    "test_df = pd.DataFrame(columns=['FaceFileName','FlowFileName','Label','ClassName'])\n",
    "\n",
    "file_path = os.path.join(data_path,data_dir_list[0])\n",
    "\n",
    "real_test_files = os.listdir(file_path)\n",
    "\n",
    "processed_frames = []\n",
    "\n",
    "real_test_paths = [os.path.join(file_path,video+'/face') for video in real_test_files]\n",
    "real_test_paths.sort()\n",
    "real_test_paths\n",
    "\n",
    "for video in real_test_paths:\n",
    "    print(f\"Processing {video}\")\n",
    "    frames = os.listdir(video)\n",
    "    frames.sort()\n",
    "    frames_path = [os.path.join(video,frame) for frame in frames]\n",
    "    for image in frames_path:\n",
    "        face_image_path = image\n",
    "        temp = image.split('/')\n",
    "        temp[-2] = 'flow' \n",
    "        flow_image_path = '/'\n",
    "        flow_image_path = flow_image_path.join(temp)\n",
    "        \n",
    "        \n",
    "        df = pd.DataFrame({'FaceFileName':[face_image_path],\n",
    "                           'FlowFileName':[flow_image_path],\n",
    "                           'Label':[labels_name['real']],\n",
    "                           'ClassName':['Real']},)\n",
    "        \n",
    "        processed_frames.append(df)"
   ]
  },
  {
   "cell_type": "code",
   "execution_count": null,
   "id": "6afefbb1",
   "metadata": {},
   "outputs": [],
   "source": [
    "file_path = os.path.join(data_path,data_dir_list[1])\n",
    "fake_test_files = os.listdir(file_path)\n",
    "fake_test_paths = [os.path.join(file_path,video+'/face') for video in fake_test_files]\n",
    "fake_test_paths.sort()\n",
    "fake_test_paths\n",
    "\n",
    "for video in fake_test_paths:\n",
    "    print(f\"Processing {video}\")\n",
    "    frames = os.listdir(video)\n",
    "    frames.sort()\n",
    "    frames_path = [os.path.join(video,frame) for frame in frames]\n",
    "    for image in frames_path:\n",
    "        face_image_path = image\n",
    "        temp = image.split('/')\n",
    "        temp[-2] = 'flow' \n",
    "        flow_image_path = '/'\n",
    "        flow_image_path = flow_image_path.join(temp)\n",
    "        \n",
    "#         test_df = test_df.append({'FaceFileName':face_image_path,\n",
    "#                                   'FlowFileName':flow_image_path,\n",
    "#                                   'Label':labels_name['fake'],\n",
    "#                                   'ClassName':'Fake'},ignore_index=True)\n",
    "        df = pd.DataFrame({'FaceFileName':[face_image_path],\n",
    "                           'FlowFileName':[flow_image_path],\n",
    "                           'Label':[labels_name['fake']],\n",
    "                           'ClassName':['Feal']},)\n",
    "        \n",
    "        processed_frames.append(df)"
   ]
  },
  {
   "cell_type": "code",
   "execution_count": 7,
   "id": "da5a441f",
   "metadata": {},
   "outputs": [
    {
     "data": {
      "text/plain": [
       "232526"
      ]
     },
     "execution_count": 7,
     "metadata": {},
     "output_type": "execute_result"
    }
   ],
   "source": [
    "len(processed_frames)"
   ]
  },
  {
   "cell_type": "code",
   "execution_count": null,
   "id": "390575c9",
   "metadata": {},
   "outputs": [],
   "source": [
    "data_path = 'Processed_Data/train'\n",
    "\n",
    "data_dir_list = os.listdir(data_path)\n",
    "\n",
    "file_path = os.path.join(data_path,data_dir_list[0])\n",
    "\n",
    "real_test_files = os.listdir(file_path)\n",
    "\n",
    "#processed_frames = []\n",
    "\n",
    "real_test_paths = [os.path.join(file_path,video+'/face') for video in real_test_files]\n",
    "real_test_paths.sort()\n",
    "real_test_paths\n",
    "\n",
    "for video in real_test_paths:\n",
    "    print(f\"Processing {video}\")\n",
    "    frames = os.listdir(video)\n",
    "    frames.sort()\n",
    "    frames_path = [os.path.join(video,frame) for frame in frames]\n",
    "    for image in frames_path:\n",
    "        face_image_path = image\n",
    "        temp = image.split('/')\n",
    "        temp[-2] = 'flow' \n",
    "        flow_image_path = '/'\n",
    "        flow_image_path = flow_image_path.join(temp)\n",
    "        \n",
    "        \n",
    "        df = pd.DataFrame({'FaceFileName':[face_image_path],\n",
    "                           'FlowFileName':[flow_image_path],\n",
    "                           'Label':[labels_name['real']],\n",
    "                           'ClassName':['Real']},)\n",
    "        \n",
    "        processed_frames.append(df)"
   ]
  },
  {
   "cell_type": "code",
   "execution_count": 9,
   "id": "43038bd7",
   "metadata": {},
   "outputs": [
    {
     "data": {
      "text/plain": [
       "306187"
      ]
     },
     "execution_count": 9,
     "metadata": {},
     "output_type": "execute_result"
    }
   ],
   "source": [
    "len(processed_frames)"
   ]
  },
  {
   "cell_type": "code",
   "execution_count": null,
   "id": "c139a05d",
   "metadata": {},
   "outputs": [],
   "source": [
    "file_path = os.path.join(data_path,data_dir_list[1])\n",
    "fake_test_files = os.listdir(file_path)\n",
    "fake_test_paths = [os.path.join(file_path,video+'/face') for video in fake_test_files]\n",
    "fake_test_paths.sort()\n",
    "fake_test_paths\n",
    "\n",
    "for video in fake_test_paths:\n",
    "    print(f\"Processing {video}\")\n",
    "    frames = os.listdir(video)\n",
    "    frames.sort()\n",
    "    frames_path = [os.path.join(video,frame) for frame in frames]\n",
    "    for image in frames_path:\n",
    "        face_image_path = image\n",
    "        temp = image.split('/')\n",
    "        temp[-2] = 'flow' \n",
    "        flow_image_path = '/'\n",
    "        flow_image_path = flow_image_path.join(temp)\n",
    "        \n",
    "        df = pd.DataFrame({'FaceFileName':[face_image_path],\n",
    "                           'FlowFileName':[flow_image_path],\n",
    "                           'Label':[labels_name['fake']],\n",
    "                           'ClassName':['Feal']},)\n",
    "        \n",
    "        processed_frames.append(df)"
   ]
  },
  {
   "cell_type": "code",
   "execution_count": null,
   "id": "42dcd06e",
   "metadata": {},
   "outputs": [],
   "source": [
    "test_df = pd.concat(processed_frames,ignore_index=True)"
   ]
  },
  {
   "cell_type": "code",
   "execution_count": null,
   "id": "e083f12f",
   "metadata": {},
   "outputs": [],
   "source": [
    "test_df.shape"
   ]
  },
  {
   "cell_type": "code",
   "execution_count": null,
   "id": "f6cc8cee",
   "metadata": {},
   "outputs": [],
   "source": [
    "test_df.head()"
   ]
  },
  {
   "cell_type": "code",
   "execution_count": null,
   "id": "2b570e35",
   "metadata": {},
   "outputs": [],
   "source": [
    "test_df.to_csv('data_files/combined.csv')"
   ]
  },
  {
   "cell_type": "code",
   "execution_count": null,
   "id": "c8ec56d9",
   "metadata": {},
   "outputs": [],
   "source": []
  }
 ],
 "metadata": {
  "kernelspec": {
   "display_name": "Python 3",
   "language": "python",
   "name": "python3"
  },
  "language_info": {
   "codemirror_mode": {
    "name": "ipython",
    "version": 3
   },
   "file_extension": ".py",
   "mimetype": "text/x-python",
   "name": "python",
   "nbconvert_exporter": "python",
   "pygments_lexer": "ipython3",
   "version": "3.8.10"
  }
 },
 "nbformat": 4,
 "nbformat_minor": 5
}
