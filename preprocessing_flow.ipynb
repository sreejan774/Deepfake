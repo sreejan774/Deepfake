{
 "cells": [
  {
   "cell_type": "code",
   "execution_count": 2,
   "id": "dba06527",
   "metadata": {},
   "outputs": [],
   "source": [
    "import os\n",
    "import cv2\n",
    "import numpy as np"
   ]
  },
  {
   "cell_type": "code",
   "execution_count": 8,
   "id": "56906d27",
   "metadata": {},
   "outputs": [],
   "source": [
    "path = os.getcwd()"
   ]
  },
  {
   "cell_type": "markdown",
   "id": "9501995e",
   "metadata": {},
   "source": [
    "### This code populates the output folder with optical flow images\n",
    "- This code expects the below shown directory structure\n",
    "- It takes frame from the face directory and populates the corresponding flow directory\n",
    "\n",
    "<img src='directory_flow2.png'>"
   ]
  },
  {
   "cell_type": "code",
   "execution_count": null,
   "id": "3ca5d812",
   "metadata": {},
   "outputs": [],
   "source": [
    "def generate_flow(path):\n",
    "    codePath = os.path.join(os.getcwd()+'/RAFT/core/inference.py')\n",
    "    modelPath = os.path.join(os.getcwd()+'/RAFT/core/models/raft-small.pth') \n",
    "    \n",
    "    ! python3 {codePath} --model {modelPath} --videoframepath {path} --small"
   ]
  },
  {
   "cell_type": "code",
   "execution_count": null,
   "id": "4f7a2225",
   "metadata": {},
   "outputs": [],
   "source": [
    "def preprocessing(input_path):\n",
    "    \n",
    "    folders = os.listdir(input_path)\n",
    "    folders.sort()\n",
    "    face_folder_path = []\n",
    "    for folder in folders:\n",
    "        face_folder_path.append(os.path.join(input_path+'/'+folder+'/face'))\n",
    "        \n",
    "    count = 0\n",
    "    print(f\"Total {len(face_folder_path)} files to process\")\n",
    "    for path in face_folder_path:\n",
    "        print(\"processing....File...\"+str(count))\n",
    "        generate_flow(path)\n",
    "        count+=1\n",
    "    print(f\"Processed {count} files\")"
   ]
  },
  {
   "cell_type": "code",
   "execution_count": null,
   "id": "a34c0201",
   "metadata": {},
   "outputs": [],
   "source": [
    "input_path = os.path.join(os.getcwd()+ \"/Output\")\n",
    "preprocessing(input_path)"
   ]
  },
  {
   "cell_type": "code",
   "execution_count": null,
   "id": "c121381a",
   "metadata": {},
   "outputs": [],
   "source": [
    "import cv2 "
   ]
  },
  {
   "cell_type": "code",
   "execution_count": null,
   "id": "3c052168",
   "metadata": {},
   "outputs": [],
   "source": [
    "frame = cv2.imread('/home/sreejan774/Desktop/projects/MinorCodes/Output/fake_test_0000.mp4/flow/0000.jpg')"
   ]
  },
  {
   "cell_type": "code",
   "execution_count": null,
   "id": "762eee03",
   "metadata": {},
   "outputs": [],
   "source": [
    "frame.shape"
   ]
  },
  {
   "cell_type": "code",
   "execution_count": null,
   "id": "f8a5fd0b",
   "metadata": {},
   "outputs": [],
   "source": []
  },
  {
   "cell_type": "code",
   "execution_count": null,
   "id": "c53181d7",
   "metadata": {},
   "outputs": [],
   "source": []
  },
  {
   "cell_type": "code",
   "execution_count": null,
   "id": "7385c4d1",
   "metadata": {},
   "outputs": [],
   "source": []
  },
  {
   "cell_type": "code",
   "execution_count": null,
   "id": "184afdc9",
   "metadata": {},
   "outputs": [],
   "source": []
  },
  {
   "cell_type": "code",
   "execution_count": null,
   "id": "9b54b689",
   "metadata": {},
   "outputs": [],
   "source": []
  },
  {
   "cell_type": "code",
   "execution_count": null,
   "id": "80429815",
   "metadata": {},
   "outputs": [],
   "source": []
  },
  {
   "cell_type": "code",
   "execution_count": null,
   "id": "29bf037c",
   "metadata": {},
   "outputs": [],
   "source": []
  }
 ],
 "metadata": {
  "kernelspec": {
   "display_name": "Python 3",
   "language": "python",
   "name": "python3"
  },
  "language_info": {
   "codemirror_mode": {
    "name": "ipython",
    "version": 3
   },
   "file_extension": ".py",
   "mimetype": "text/x-python",
   "name": "python",
   "nbconvert_exporter": "python",
   "pygments_lexer": "ipython3",
   "version": "3.8.5"
  }
 },
 "nbformat": 4,
 "nbformat_minor": 5
}
