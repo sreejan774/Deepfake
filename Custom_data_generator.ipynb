{
 "cells": [
  {
   "cell_type": "code",
   "execution_count": 10,
   "id": "5a049d17",
   "metadata": {},
   "outputs": [],
   "source": [
    "import os\n",
    "import numpy as np\n",
    "import pandas as pd\n",
    "\n",
    "import matplotlib.pyplot as plt\n",
    "import cv2\n",
    "\n",
    "from sklearn.utils import shuffle"
   ]
  },
  {
   "cell_type": "code",
   "execution_count": 11,
   "id": "8e4e20bf",
   "metadata": {},
   "outputs": [],
   "source": [
    "def load_samples(csv_filename):\n",
    "    data = pd.read_csv(os.path.join('data_files',csv_filename))\n",
    "    data = data[['FaceFileName','FlowFileName','Label','ClassName']]\n",
    "    face_file_names = list(data.iloc[:,0])\n",
    "    flow_file_names = list(data.iloc[:,1])\n",
    "    labels = list(data.iloc[:,2])\n",
    "    samples =[]\n",
    "    for face,flow,lab in zip(face_file_names,flow_file_names,labels):\n",
    "        samples.append([face,flow,lab])\n",
    "    \n",
    "    return samples"
   ]
  },
  {
   "cell_type": "code",
   "execution_count": 12,
   "id": "0a7b1145",
   "metadata": {},
   "outputs": [],
   "source": [
    "data_path = \"train.csv\""
   ]
  },
  {
   "cell_type": "code",
   "execution_count": 13,
   "id": "bdac4802",
   "metadata": {},
   "outputs": [],
   "source": [
    "samples = load_samples(data_path)"
   ]
  },
  {
   "cell_type": "code",
   "execution_count": 14,
   "id": "582e1f85",
   "metadata": {},
   "outputs": [
    {
     "data": {
      "text/plain": [
       "542997"
      ]
     },
     "execution_count": 14,
     "metadata": {},
     "output_type": "execute_result"
    }
   ],
   "source": [
    "len(samples)"
   ]
  },
  {
   "cell_type": "code",
   "execution_count": 15,
   "id": "4685d646",
   "metadata": {},
   "outputs": [],
   "source": [
    "def shuffle_data(data):\n",
    "    data = shuffle(data)#,random_state=2)\n",
    "    return data"
   ]
  },
  {
   "cell_type": "code",
   "execution_count": 16,
   "id": "fd866be7",
   "metadata": {},
   "outputs": [],
   "source": [
    "#shuffle_data(samples)"
   ]
  },
  {
   "cell_type": "markdown",
   "id": "ade66124",
   "metadata": {},
   "source": [
    "### we need a bit of more preparation like normalizing the data and converting the labels to one hot encoding"
   ]
  },
  {
   "cell_type": "code",
   "execution_count": 17,
   "id": "1c14a9ce",
   "metadata": {},
   "outputs": [],
   "source": [
    "def preprocessing(face_img,flow_img,label):\n",
    "    face_img = face_img/255\n",
    "    flow_img = flow_img/255\n",
    "    num_classes = 2\n",
    "    one_hot_label = np.array([0,0])\n",
    "    one_hot_label[label] = 1\n",
    "    \n",
    "    return face_img,flow_img,one_hot_label"
   ]
  },
  {
   "cell_type": "code",
   "execution_count": 18,
   "id": "8486dad5",
   "metadata": {},
   "outputs": [],
   "source": [
    "def data_generator(samples,batch_size=32,shuffle_data = True):\n",
    "    num_samples = len(samples)\n",
    "    while True:\n",
    "        if shuffle_data:\n",
    "            samples = shuffle(samples)\n",
    "        \n",
    "        for offset in range(0,num_samples, batch_size):\n",
    "            batch_samples = samples[offset:offset+batch_size]\n",
    "            \n",
    "            face_train = []\n",
    "            flow_train = []\n",
    "            y_train = []\n",
    "            \n",
    "            for batch_sample in batch_samples:\n",
    "                face_img_name = batch_sample[0]\n",
    "                flow_img_name = batch_sample[1]\n",
    "                label = batch_sample[2]\n",
    "                face_img =  cv2.imread(face_img_name)\n",
    "                flow_img = cv2.imread(flow_img_name)\n",
    "                \n",
    "                face_img,flow_img,label = preprocessing(face_img,flow_img,label)\n",
    "                \n",
    "                face_train.append(face_img)\n",
    "                flow_train.append(flow_img)\n",
    "                y_train.append(label)\n",
    "                \n",
    "            face_train = np.array(face_train)\n",
    "            flow_train = np.array(flow_train)\n",
    "            \n",
    "            y_train = np.array(y_train)\n",
    "\n",
    "            yield [face_train,flow_train],y_train"
   ]
  },
  {
   "cell_type": "code",
   "execution_count": 19,
   "id": "0d2ef363",
   "metadata": {},
   "outputs": [],
   "source": [
    "test_datagen = data_generator(samples,batch_size = 8)"
   ]
  },
  {
   "cell_type": "code",
   "execution_count": 20,
   "id": "23cd145a",
   "metadata": {},
   "outputs": [
    {
     "name": "stdout",
     "output_type": "stream",
     "text": [
      "2\n",
      "8\n",
      "[[1 0]\n",
      " [1 0]\n",
      " [1 0]\n",
      " [1 0]\n",
      " [1 0]\n",
      " [1 0]\n",
      " [1 0]\n",
      " [1 0]]\n"
     ]
    }
   ],
   "source": [
    "x,y = next(test_datagen)\n",
    "print(len(x))\n",
    "print(len(y))\n",
    "print(y)"
   ]
  },
  {
   "cell_type": "code",
   "execution_count": 21,
   "id": "ffcd7b24",
   "metadata": {},
   "outputs": [
    {
     "data": {
      "text/plain": [
       "(8, 50, 50, 3)"
      ]
     },
     "execution_count": 21,
     "metadata": {},
     "output_type": "execute_result"
    }
   ],
   "source": [
    "x[0].shape"
   ]
  },
  {
   "cell_type": "code",
   "execution_count": 22,
   "id": "21e08c08",
   "metadata": {},
   "outputs": [
    {
     "data": {
      "text/plain": [
       "(8, 50, 50, 3)"
      ]
     },
     "execution_count": 22,
     "metadata": {},
     "output_type": "execute_result"
    }
   ],
   "source": [
    "x[1].shape"
   ]
  },
  {
   "cell_type": "code",
   "execution_count": 23,
   "id": "36ff16d2",
   "metadata": {},
   "outputs": [],
   "source": [
    "# for i in range(8):\n",
    "#     plt.imshow(x[0][i])\n",
    "#     plt.title(f\"class_name: {y[i]}\")\n",
    "#     plt.show()\n",
    "    "
   ]
  },
  {
   "cell_type": "code",
   "execution_count": 24,
   "id": "70edfa41",
   "metadata": {},
   "outputs": [],
   "source": [
    "# for i in range(8):\n",
    "#     plt.imshow(x[1][i])\n",
    "#     plt.title(f\"class_name: {y[i]}\")\n",
    "#     plt.show()"
   ]
  },
  {
   "cell_type": "code",
   "execution_count": 25,
   "id": "ef60e08f",
   "metadata": {},
   "outputs": [
    {
     "name": "stdout",
     "output_type": "stream",
     "text": [
      "number of train samples:  542997\n",
      "number of test samples:  232526\n"
     ]
    }
   ],
   "source": [
    "train_data_path = 'train.csv'\n",
    "test_data_path = 'test.csv'\n",
    "\n",
    "train_samples = load_samples(train_data_path)\n",
    "test_samples = load_samples(test_data_path)\n",
    "\n",
    "num_train_samples = len(train_samples)\n",
    "num_test_samples = len(test_samples)\n",
    "\n",
    "print('number of train samples: ', num_train_samples)\n",
    "print('number of test samples: ', num_test_samples)"
   ]
  },
  {
   "cell_type": "code",
   "execution_count": 26,
   "id": "da946522",
   "metadata": {},
   "outputs": [],
   "source": [
    "train_generator = data_generator(train_samples)"
   ]
  },
  {
   "cell_type": "code",
   "execution_count": 27,
   "id": "f0c814f8",
   "metadata": {},
   "outputs": [],
   "source": [
    "x,y = next(train_generator)"
   ]
  },
  {
   "cell_type": "code",
   "execution_count": 28,
   "id": "e3c72cc5",
   "metadata": {},
   "outputs": [
    {
     "data": {
      "text/plain": [
       "(32, 50, 50, 3)"
      ]
     },
     "execution_count": 28,
     "metadata": {},
     "output_type": "execute_result"
    }
   ],
   "source": [
    "x[0].shape\n"
   ]
  },
  {
   "cell_type": "code",
   "execution_count": 29,
   "id": "addcdcd2",
   "metadata": {},
   "outputs": [
    {
     "data": {
      "text/plain": [
       "(32, 50, 50, 3)"
      ]
     },
     "execution_count": 29,
     "metadata": {},
     "output_type": "execute_result"
    }
   ],
   "source": [
    "x[1].shape"
   ]
  },
  {
   "cell_type": "code",
   "execution_count": 30,
   "id": "25a55648",
   "metadata": {},
   "outputs": [],
   "source": [
    "#print(x[0])"
   ]
  },
  {
   "cell_type": "markdown",
   "id": "c4bda7cf",
   "metadata": {},
   "source": [
    "### Testing on a Random Model"
   ]
  },
  {
   "cell_type": "code",
   "execution_count": 53,
   "id": "ae8fb90a",
   "metadata": {},
   "outputs": [],
   "source": [
    "from keras.layers import Input, Dense, Flatten, Dropout, Conv2D, MaxPooling2D, Activation, Concatenate\n",
    "from keras.layers.advanced_activations import LeakyReLU\n",
    "from tensorflow.keras import Model"
   ]
  },
  {
   "cell_type": "code",
   "execution_count": 54,
   "id": "0f1d351f",
   "metadata": {},
   "outputs": [],
   "source": [
    "def create_convolution_layers(input_img):\n",
    "  model = Conv2D(32, (3, 3), padding='same', input_shape=(50,50,3))(input_img)\n",
    "  model = LeakyReLU(alpha=0.1)(model)\n",
    "  model = MaxPooling2D((2, 2),padding='same')(model)\n",
    "  model = Dropout(0.25)(model)\n",
    "  \n",
    "  model = Conv2D(64, (3, 3), padding='same')(model)\n",
    "  model = LeakyReLU(alpha=0.1)(model)\n",
    "  model = MaxPooling2D(pool_size=(2, 2),padding='same')(model)\n",
    "  model = Dropout(0.25)(model)\n",
    "    \n",
    "  model = Conv2D(128, (3, 3), padding='same')(model)\n",
    "  model = LeakyReLU(alpha=0.1)(model)\n",
    "  model = MaxPooling2D(pool_size=(2, 2),padding='same')(model)\n",
    "  model = Dropout(0.4)(model)\n",
    "    \n",
    "  return model"
   ]
  },
  {
   "cell_type": "code",
   "execution_count": 55,
   "id": "066b8e3d",
   "metadata": {},
   "outputs": [],
   "source": [
    "face_input = Input(shape = (50,50,3))\n",
    "face_model = create_convolution_layers(face_input)\n",
    "\n",
    "\n",
    "flow_input = Input(shape = (50,50,3))\n",
    "flow_model = create_convolution_layers(flow_input)\n",
    "\n",
    "conv = Concatenate()([face_model,flow_model])\n",
    "\n",
    "conv = Flatten()(conv)\n",
    "\n",
    "dense = Dense(512)(conv)\n",
    "\n",
    "dense = LeakyReLU(alpha=0.1)(dense)\n",
    "dense = Dropout(0.5)(dense)\n",
    "\n",
    "output = Dense(2, activation='softmax')(dense)\n",
    "\n",
    "model = Model(inputs=[face_input, flow_input], outputs=[output])\n",
    "\n",
    "\n",
    "model.compile(loss='categorical_crossentropy',\n",
    "              metrics=['accuracy'])\n",
    "\n"
   ]
  },
  {
   "cell_type": "code",
   "execution_count": null,
   "id": "31c4c8ef",
   "metadata": {},
   "outputs": [],
   "source": [
    "batch_size = 32\n",
    "train_generator = data_generator(train_samples,batch_size = 32)\n",
    "\n",
    "model.fit(\n",
    "    train_generator,\n",
    "    steps_per_epoch=num_train_samples // batch_size,\n",
    "    epochs = 2,\n",
    ")"
   ]
  },
  {
   "cell_type": "code",
   "execution_count": null,
   "id": "feaf94e3",
   "metadata": {},
   "outputs": [],
   "source": []
  }
 ],
 "metadata": {
  "kernelspec": {
   "display_name": "Python 3",
   "language": "python",
   "name": "python3"
  },
  "language_info": {
   "codemirror_mode": {
    "name": "ipython",
    "version": 3
   },
   "file_extension": ".py",
   "mimetype": "text/x-python",
   "name": "python",
   "nbconvert_exporter": "python",
   "pygments_lexer": "ipython3",
   "version": "3.8.10"
  }
 },
 "nbformat": 4,
 "nbformat_minor": 5
}
