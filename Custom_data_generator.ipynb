{
 "cells": [
  {
   "cell_type": "code",
   "execution_count": 10,
   "id": "5a049d17",
   "metadata": {},
   "outputs": [],
   "source": [
    "import os\n",
    "import numpy as np\n",
    "import pandas as pd\n",
    "\n",
    "import matplotlib.pyplot as plt\n",
    "import cv2\n",
    "\n",
    "from sklearn.utils import shuffle"
   ]
  },
  {
   "cell_type": "code",
   "execution_count": 11,
   "id": "8e4e20bf",
   "metadata": {},
   "outputs": [],
   "source": [
    "def load_samples(csv_filename):\n",
    "    data = pd.read_csv(os.path.join('data_files',csv_filename))\n",
    "    data = data[['FaceFileName','FlowFileName','Label','ClassName']]\n",
    "    face_file_names = list(data.iloc[:,0])\n",
    "    flow_file_names = list(data.iloc[:,1])\n",
    "    labels = list(data.iloc[:,2])\n",
    "    samples =[]\n",
    "    for face,flow,lab in zip(face_file_names,flow_file_names,labels):\n",
    "        samples.append([face,flow,lab])\n",
    "    \n",
    "    return samples"
   ]
  },
  {
   "cell_type": "code",
   "execution_count": 12,
   "id": "0a7b1145",
   "metadata": {},
   "outputs": [],
   "source": [
    "data_path = \"train.csv\""
   ]
  },
  {
   "cell_type": "code",
   "execution_count": 13,
   "id": "bdac4802",
   "metadata": {},
   "outputs": [],
   "source": [
    "samples = load_samples(data_path)"
   ]
  },
  {
   "cell_type": "code",
   "execution_count": 14,
   "id": "582e1f85",
   "metadata": {},
   "outputs": [
    {
     "data": {
      "text/plain": [
       "542997"
      ]
     },
     "execution_count": 14,
     "metadata": {},
     "output_type": "execute_result"
    }
   ],
   "source": [
    "len(samples)"
   ]
  },
  {
   "cell_type": "code",
   "execution_count": 15,
   "id": "4685d646",
   "metadata": {},
   "outputs": [],
   "source": [
    "def shuffle_data(data):\n",
    "    data = shuffle(data)#,random_state=2)\n",
    "    return data"
   ]
  },
  {
   "cell_type": "code",
   "execution_count": 16,
   "id": "fd866be7",
   "metadata": {},
   "outputs": [],
   "source": [
    "#shuffle_data(samples)"
   ]
  },
  {
   "cell_type": "markdown",
   "id": "ade66124",
   "metadata": {},
   "source": [
    "### we need a bit of more preparation like normalizing the data and converting the labels to one hot encoding"
   ]
  },
  {
   "cell_type": "code",
   "execution_count": 17,
   "id": "1c14a9ce",
   "metadata": {},
   "outputs": [],
   "source": [
    "def preprocessing(face_img,flow_img,label):\n",
    "    face_img = face_img/255\n",
    "    flow_img = flow_img/255\n",
    "    num_classes = 2\n",
    "    one_hot_label = np.array([0,0])\n",
    "    one_hot_label[label] = 1\n",
    "    \n",
    "    return face_img,flow_img,one_hot_label"
   ]
  },
  {
   "cell_type": "code",
   "execution_count": 18,
   "id": "8486dad5",
   "metadata": {},
   "outputs": [],
   "source": [
    "def data_generator(samples,batch_size=32,shuffle_data = True):\n",
    "    num_samples = len(samples)\n",
    "    while True:\n",
    "        if shuffle_data:\n",
    "            samples = shuffle(samples)\n",
    "        \n",
    "        for offset in range(0,num_samples, batch_size):\n",
    "            batch_samples = samples[offset:offset+batch_size]\n",
    "            \n",
    "            face_train = []\n",
    "            flow_train = []\n",
    "            y_train = []\n",
    "            \n",
    "            for batch_sample in batch_samples:\n",
    "                face_img_name = batch_sample[0]\n",
    "                flow_img_name = batch_sample[1]\n",
    "                label = batch_sample[2]\n",
    "                face_img =  cv2.imread(face_img_name)\n",
    "                flow_img = cv2.imread(flow_img_name)\n",
    "                \n",
    "                face_img,flow_img,label = preprocessing(face_img,flow_img,label)\n",
    "                \n",
    "                face_train.append(face_img)\n",
    "                flow_train.append(flow_img)\n",
    "                y_train.append(label)\n",
    "                \n",
    "            face_train = np.array(face_train)\n",
    "            flow_train = np.array(flow_train)\n",
    "            \n",
    "            y_train = np.array(y_train)\n",
    "\n",
    "            yield [face_train,flow_train],y_train"
   ]
  },
  {
   "cell_type": "code",
   "execution_count": 19,
   "id": "0d2ef363",
   "metadata": {},
   "outputs": [],
   "source": [
    "test_datagen = data_generator(samples,batch_size = 8)"
   ]
  },
  {
   "cell_type": "code",
   "execution_count": 20,
   "id": "23cd145a",
   "metadata": {},
   "outputs": [
    {
     "name": "stdout",
     "output_type": "stream",
     "text": [
      "2\n",
      "8\n",
      "[[1 0]\n",
      " [1 0]\n",
      " [1 0]\n",
      " [1 0]\n",
      " [1 0]\n",
      " [1 0]\n",
      " [1 0]\n",
      " [1 0]]\n"
     ]
    }
   ],
   "source": [
    "x,y = next(test_datagen)\n",
    "print(len(x))\n",
    "print(len(y))\n",
    "print(y)"
   ]
  },
  {
   "cell_type": "code",
   "execution_count": 21,
   "id": "ffcd7b24",
   "metadata": {},
   "outputs": [
    {
     "data": {
      "text/plain": [
       "(8, 50, 50, 3)"
      ]
     },
     "execution_count": 21,
     "metadata": {},
     "output_type": "execute_result"
    }
   ],
   "source": [
    "x[0].shape"
   ]
  },
  {
   "cell_type": "code",
   "execution_count": 22,
   "id": "21e08c08",
   "metadata": {},
   "outputs": [
    {
     "data": {
      "text/plain": [
       "(8, 50, 50, 3)"
      ]
     },
     "execution_count": 22,
     "metadata": {},
     "output_type": "execute_result"
    }
   ],
   "source": [
    "x[1].shape"
   ]
  },
  {
   "cell_type": "code",
   "execution_count": 23,
   "id": "36ff16d2",
   "metadata": {},
   "outputs": [],
   "source": [
    "# for i in range(8):\n",
    "#     plt.imshow(x[0][i])\n",
    "#     plt.title(f\"class_name: {y[i]}\")\n",
    "#     plt.show()\n",
    "    "
   ]
  },
  {
   "cell_type": "code",
   "execution_count": 24,
   "id": "70edfa41",
   "metadata": {},
   "outputs": [],
   "source": [
    "# for i in range(8):\n",
    "#     plt.imshow(x[1][i])\n",
    "#     plt.title(f\"class_name: {y[i]}\")\n",
    "#     plt.show()"
   ]
  },
  {
   "cell_type": "code",
   "execution_count": 25,
   "id": "ef60e08f",
   "metadata": {},
   "outputs": [
    {
     "name": "stdout",
     "output_type": "stream",
     "text": [
      "number of train samples:  542997\n",
      "number of test samples:  232526\n"
     ]
    }
   ],
   "source": [
    "train_data_path = 'train.csv'\n",
    "test_data_path = 'test.csv'\n",
    "\n",
    "train_samples = load_samples(train_data_path)\n",
    "test_samples = load_samples(test_data_path)\n",
    "\n",
    "num_train_samples = len(train_samples)\n",
    "num_test_samples = len(test_samples)\n",
    "\n",
    "print('number of train samples: ', num_train_samples)\n",
    "print('number of test samples: ', num_test_samples)"
   ]
  },
  {
   "cell_type": "code",
   "execution_count": 26,
   "id": "da946522",
   "metadata": {},
   "outputs": [],
   "source": [
    "train_generator = data_generator(train_samples)"
   ]
  },
  {
   "cell_type": "code",
   "execution_count": 27,
   "id": "f0c814f8",
   "metadata": {},
   "outputs": [],
   "source": [
    "x,y = next(train_generator)"
   ]
  },
  {
   "cell_type": "code",
   "execution_count": 28,
   "id": "e3c72cc5",
   "metadata": {},
   "outputs": [
    {
     "data": {
      "text/plain": [
       "(32, 50, 50, 3)"
      ]
     },
     "execution_count": 28,
     "metadata": {},
     "output_type": "execute_result"
    }
   ],
   "source": [
    "x[0].shape\n"
   ]
  },
  {
   "cell_type": "code",
   "execution_count": 29,
   "id": "addcdcd2",
   "metadata": {},
   "outputs": [
    {
     "data": {
      "text/plain": [
       "(32, 50, 50, 3)"
      ]
     },
     "execution_count": 29,
     "metadata": {},
     "output_type": "execute_result"
    }
   ],
   "source": [
    "x[1].shape"
   ]
  },
  {
   "cell_type": "code",
   "execution_count": 30,
   "id": "25a55648",
   "metadata": {},
   "outputs": [],
   "source": [
    "#print(x[0])"
   ]
  },
  {
   "cell_type": "code",
   "execution_count": null,
   "id": "6bbd8407",
   "metadata": {},
   "outputs": [],
   "source": []
  },
  {
   "cell_type": "code",
   "execution_count": 53,
   "id": "ae8fb90a",
   "metadata": {},
   "outputs": [],
   "source": [
    "from keras.layers import Input, Dense, Flatten, Dropout, Conv2D, MaxPooling2D, Activation, Concatenate\n",
    "from keras.layers.advanced_activations import LeakyReLU\n",
    "from tensorflow.keras import Model"
   ]
  },
  {
   "cell_type": "code",
   "execution_count": 54,
   "id": "0f1d351f",
   "metadata": {},
   "outputs": [],
   "source": [
    "def create_convolution_layers(input_img):\n",
    "  model = Conv2D(32, (3, 3), padding='same', input_shape=(50,50,3))(input_img)\n",
    "  model = LeakyReLU(alpha=0.1)(model)\n",
    "  model = MaxPooling2D((2, 2),padding='same')(model)\n",
    "  model = Dropout(0.25)(model)\n",
    "  \n",
    "  model = Conv2D(64, (3, 3), padding='same')(model)\n",
    "  model = LeakyReLU(alpha=0.1)(model)\n",
    "  model = MaxPooling2D(pool_size=(2, 2),padding='same')(model)\n",
    "  model = Dropout(0.25)(model)\n",
    "    \n",
    "  model = Conv2D(128, (3, 3), padding='same')(model)\n",
    "  model = LeakyReLU(alpha=0.1)(model)\n",
    "  model = MaxPooling2D(pool_size=(2, 2),padding='same')(model)\n",
    "  model = Dropout(0.4)(model)\n",
    "    \n",
    "  return model"
   ]
  },
  {
   "cell_type": "code",
   "execution_count": 55,
   "id": "066b8e3d",
   "metadata": {},
   "outputs": [],
   "source": [
    "face_input = Input(shape = (50,50,3))\n",
    "face_model = create_convolution_layers(face_input)\n",
    "\n",
    "\n",
    "flow_input = Input(shape = (50,50,3))\n",
    "flow_model = create_convolution_layers(flow_input)\n",
    "\n",
    "conv = Concatenate()([face_model,flow_model])\n",
    "\n",
    "conv = Flatten()(conv)\n",
    "\n",
    "dense = Dense(512)(conv)\n",
    "\n",
    "dense = LeakyReLU(alpha=0.1)(dense)\n",
    "dense = Dropout(0.5)(dense)\n",
    "\n",
    "output = Dense(2, activation='softmax')(dense)\n",
    "\n",
    "model = Model(inputs=[face_input, flow_input], outputs=[output])\n",
    "\n",
    "\n",
    "model.compile(loss='categorical_crossentropy',\n",
    "              metrics=['accuracy'])\n",
    "\n"
   ]
  },
  {
   "cell_type": "code",
   "execution_count": 32,
   "id": "31c4c8ef",
   "metadata": {},
   "outputs": [
    {
     "name": "stdout",
     "output_type": "stream",
     "text": [
      "Epoch 1/2\n",
      "    4/16968 [..............................] - ETA: 10:13:11 - loss: 0.4853 - accuracy: 0.8359"
     ]
    },
    {
     "ename": "KeyboardInterrupt",
     "evalue": "",
     "output_type": "error",
     "traceback": [
      "\u001b[0;31m---------------------------------------------------------------------------\u001b[0m",
      "\u001b[0;31mKeyboardInterrupt\u001b[0m                         Traceback (most recent call last)",
      "\u001b[0;32m<ipython-input-32-ee971022b8b9>\u001b[0m in \u001b[0;36m<module>\u001b[0;34m\u001b[0m\n\u001b[1;32m      2\u001b[0m \u001b[0mtrain_generator\u001b[0m \u001b[0;34m=\u001b[0m \u001b[0mdata_generator\u001b[0m\u001b[0;34m(\u001b[0m\u001b[0mtrain_samples\u001b[0m\u001b[0;34m,\u001b[0m\u001b[0mbatch_size\u001b[0m \u001b[0;34m=\u001b[0m \u001b[0;36m32\u001b[0m\u001b[0;34m)\u001b[0m\u001b[0;34m\u001b[0m\u001b[0;34m\u001b[0m\u001b[0m\n\u001b[1;32m      3\u001b[0m \u001b[0;34m\u001b[0m\u001b[0m\n\u001b[0;32m----> 4\u001b[0;31m model.fit(\n\u001b[0m\u001b[1;32m      5\u001b[0m     \u001b[0mtrain_generator\u001b[0m\u001b[0;34m,\u001b[0m\u001b[0;34m\u001b[0m\u001b[0;34m\u001b[0m\u001b[0m\n\u001b[1;32m      6\u001b[0m     \u001b[0msteps_per_epoch\u001b[0m\u001b[0;34m=\u001b[0m\u001b[0mnum_train_samples\u001b[0m \u001b[0;34m//\u001b[0m \u001b[0mbatch_size\u001b[0m\u001b[0;34m,\u001b[0m\u001b[0;34m\u001b[0m\u001b[0;34m\u001b[0m\u001b[0m\n",
      "\u001b[0;32m~/.local/lib/python3.8/site-packages/tensorflow/python/keras/engine/training.py\u001b[0m in \u001b[0;36mfit\u001b[0;34m(self, x, y, batch_size, epochs, verbose, callbacks, validation_split, validation_data, shuffle, class_weight, sample_weight, initial_epoch, steps_per_epoch, validation_steps, validation_batch_size, validation_freq, max_queue_size, workers, use_multiprocessing)\u001b[0m\n\u001b[1;32m   1181\u001b[0m                 _r=1):\n\u001b[1;32m   1182\u001b[0m               \u001b[0mcallbacks\u001b[0m\u001b[0;34m.\u001b[0m\u001b[0mon_train_batch_begin\u001b[0m\u001b[0;34m(\u001b[0m\u001b[0mstep\u001b[0m\u001b[0;34m)\u001b[0m\u001b[0;34m\u001b[0m\u001b[0;34m\u001b[0m\u001b[0m\n\u001b[0;32m-> 1183\u001b[0;31m               \u001b[0mtmp_logs\u001b[0m \u001b[0;34m=\u001b[0m \u001b[0mself\u001b[0m\u001b[0;34m.\u001b[0m\u001b[0mtrain_function\u001b[0m\u001b[0;34m(\u001b[0m\u001b[0miterator\u001b[0m\u001b[0;34m)\u001b[0m\u001b[0;34m\u001b[0m\u001b[0;34m\u001b[0m\u001b[0m\n\u001b[0m\u001b[1;32m   1184\u001b[0m               \u001b[0;32mif\u001b[0m \u001b[0mdata_handler\u001b[0m\u001b[0;34m.\u001b[0m\u001b[0mshould_sync\u001b[0m\u001b[0;34m:\u001b[0m\u001b[0;34m\u001b[0m\u001b[0;34m\u001b[0m\u001b[0m\n\u001b[1;32m   1185\u001b[0m                 \u001b[0mcontext\u001b[0m\u001b[0;34m.\u001b[0m\u001b[0masync_wait\u001b[0m\u001b[0;34m(\u001b[0m\u001b[0;34m)\u001b[0m\u001b[0;34m\u001b[0m\u001b[0;34m\u001b[0m\u001b[0m\n",
      "\u001b[0;32m~/.local/lib/python3.8/site-packages/tensorflow/python/eager/def_function.py\u001b[0m in \u001b[0;36m__call__\u001b[0;34m(self, *args, **kwds)\u001b[0m\n\u001b[1;32m    887\u001b[0m \u001b[0;34m\u001b[0m\u001b[0m\n\u001b[1;32m    888\u001b[0m       \u001b[0;32mwith\u001b[0m \u001b[0mOptionalXlaContext\u001b[0m\u001b[0;34m(\u001b[0m\u001b[0mself\u001b[0m\u001b[0;34m.\u001b[0m\u001b[0m_jit_compile\u001b[0m\u001b[0;34m)\u001b[0m\u001b[0;34m:\u001b[0m\u001b[0;34m\u001b[0m\u001b[0;34m\u001b[0m\u001b[0m\n\u001b[0;32m--> 889\u001b[0;31m         \u001b[0mresult\u001b[0m \u001b[0;34m=\u001b[0m \u001b[0mself\u001b[0m\u001b[0;34m.\u001b[0m\u001b[0m_call\u001b[0m\u001b[0;34m(\u001b[0m\u001b[0;34m*\u001b[0m\u001b[0margs\u001b[0m\u001b[0;34m,\u001b[0m \u001b[0;34m**\u001b[0m\u001b[0mkwds\u001b[0m\u001b[0;34m)\u001b[0m\u001b[0;34m\u001b[0m\u001b[0;34m\u001b[0m\u001b[0m\n\u001b[0m\u001b[1;32m    890\u001b[0m \u001b[0;34m\u001b[0m\u001b[0m\n\u001b[1;32m    891\u001b[0m       \u001b[0mnew_tracing_count\u001b[0m \u001b[0;34m=\u001b[0m \u001b[0mself\u001b[0m\u001b[0;34m.\u001b[0m\u001b[0mexperimental_get_tracing_count\u001b[0m\u001b[0;34m(\u001b[0m\u001b[0;34m)\u001b[0m\u001b[0;34m\u001b[0m\u001b[0;34m\u001b[0m\u001b[0m\n",
      "\u001b[0;32m~/.local/lib/python3.8/site-packages/tensorflow/python/eager/def_function.py\u001b[0m in \u001b[0;36m_call\u001b[0;34m(self, *args, **kwds)\u001b[0m\n\u001b[1;32m    915\u001b[0m       \u001b[0;31m# In this case we have created variables on the first call, so we run the\u001b[0m\u001b[0;34m\u001b[0m\u001b[0;34m\u001b[0m\u001b[0;34m\u001b[0m\u001b[0m\n\u001b[1;32m    916\u001b[0m       \u001b[0;31m# defunned version which is guaranteed to never create variables.\u001b[0m\u001b[0;34m\u001b[0m\u001b[0;34m\u001b[0m\u001b[0;34m\u001b[0m\u001b[0m\n\u001b[0;32m--> 917\u001b[0;31m       \u001b[0;32mreturn\u001b[0m \u001b[0mself\u001b[0m\u001b[0;34m.\u001b[0m\u001b[0m_stateless_fn\u001b[0m\u001b[0;34m(\u001b[0m\u001b[0;34m*\u001b[0m\u001b[0margs\u001b[0m\u001b[0;34m,\u001b[0m \u001b[0;34m**\u001b[0m\u001b[0mkwds\u001b[0m\u001b[0;34m)\u001b[0m  \u001b[0;31m# pylint: disable=not-callable\u001b[0m\u001b[0;34m\u001b[0m\u001b[0;34m\u001b[0m\u001b[0m\n\u001b[0m\u001b[1;32m    918\u001b[0m     \u001b[0;32melif\u001b[0m \u001b[0mself\u001b[0m\u001b[0;34m.\u001b[0m\u001b[0m_stateful_fn\u001b[0m \u001b[0;32mis\u001b[0m \u001b[0;32mnot\u001b[0m \u001b[0;32mNone\u001b[0m\u001b[0;34m:\u001b[0m\u001b[0;34m\u001b[0m\u001b[0;34m\u001b[0m\u001b[0m\n\u001b[1;32m    919\u001b[0m       \u001b[0;31m# Release the lock early so that multiple threads can perform the call\u001b[0m\u001b[0;34m\u001b[0m\u001b[0;34m\u001b[0m\u001b[0;34m\u001b[0m\u001b[0m\n",
      "\u001b[0;32m~/.local/lib/python3.8/site-packages/tensorflow/python/eager/function.py\u001b[0m in \u001b[0;36m__call__\u001b[0;34m(self, *args, **kwargs)\u001b[0m\n\u001b[1;32m   3021\u001b[0m       (graph_function,\n\u001b[1;32m   3022\u001b[0m        filtered_flat_args) = self._maybe_define_function(args, kwargs)\n\u001b[0;32m-> 3023\u001b[0;31m     return graph_function._call_flat(\n\u001b[0m\u001b[1;32m   3024\u001b[0m         filtered_flat_args, captured_inputs=graph_function.captured_inputs)  # pylint: disable=protected-access\n\u001b[1;32m   3025\u001b[0m \u001b[0;34m\u001b[0m\u001b[0m\n",
      "\u001b[0;32m~/.local/lib/python3.8/site-packages/tensorflow/python/eager/function.py\u001b[0m in \u001b[0;36m_call_flat\u001b[0;34m(self, args, captured_inputs, cancellation_manager)\u001b[0m\n\u001b[1;32m   1958\u001b[0m         and executing_eagerly):\n\u001b[1;32m   1959\u001b[0m       \u001b[0;31m# No tape is watching; skip to running the function.\u001b[0m\u001b[0;34m\u001b[0m\u001b[0;34m\u001b[0m\u001b[0;34m\u001b[0m\u001b[0m\n\u001b[0;32m-> 1960\u001b[0;31m       return self._build_call_outputs(self._inference_function.call(\n\u001b[0m\u001b[1;32m   1961\u001b[0m           ctx, args, cancellation_manager=cancellation_manager))\n\u001b[1;32m   1962\u001b[0m     forward_backward = self._select_forward_and_backward_functions(\n",
      "\u001b[0;32m~/.local/lib/python3.8/site-packages/tensorflow/python/eager/function.py\u001b[0m in \u001b[0;36mcall\u001b[0;34m(self, ctx, args, cancellation_manager)\u001b[0m\n\u001b[1;32m    589\u001b[0m       \u001b[0;32mwith\u001b[0m \u001b[0m_InterpolateFunctionError\u001b[0m\u001b[0;34m(\u001b[0m\u001b[0mself\u001b[0m\u001b[0;34m)\u001b[0m\u001b[0;34m:\u001b[0m\u001b[0;34m\u001b[0m\u001b[0;34m\u001b[0m\u001b[0m\n\u001b[1;32m    590\u001b[0m         \u001b[0;32mif\u001b[0m \u001b[0mcancellation_manager\u001b[0m \u001b[0;32mis\u001b[0m \u001b[0;32mNone\u001b[0m\u001b[0;34m:\u001b[0m\u001b[0;34m\u001b[0m\u001b[0;34m\u001b[0m\u001b[0m\n\u001b[0;32m--> 591\u001b[0;31m           outputs = execute.execute(\n\u001b[0m\u001b[1;32m    592\u001b[0m               \u001b[0mstr\u001b[0m\u001b[0;34m(\u001b[0m\u001b[0mself\u001b[0m\u001b[0;34m.\u001b[0m\u001b[0msignature\u001b[0m\u001b[0;34m.\u001b[0m\u001b[0mname\u001b[0m\u001b[0;34m)\u001b[0m\u001b[0;34m,\u001b[0m\u001b[0;34m\u001b[0m\u001b[0;34m\u001b[0m\u001b[0m\n\u001b[1;32m    593\u001b[0m               \u001b[0mnum_outputs\u001b[0m\u001b[0;34m=\u001b[0m\u001b[0mself\u001b[0m\u001b[0;34m.\u001b[0m\u001b[0m_num_outputs\u001b[0m\u001b[0;34m,\u001b[0m\u001b[0;34m\u001b[0m\u001b[0;34m\u001b[0m\u001b[0m\n",
      "\u001b[0;32m~/.local/lib/python3.8/site-packages/tensorflow/python/eager/execute.py\u001b[0m in \u001b[0;36mquick_execute\u001b[0;34m(op_name, num_outputs, inputs, attrs, ctx, name)\u001b[0m\n\u001b[1;32m     57\u001b[0m   \u001b[0;32mtry\u001b[0m\u001b[0;34m:\u001b[0m\u001b[0;34m\u001b[0m\u001b[0;34m\u001b[0m\u001b[0m\n\u001b[1;32m     58\u001b[0m     \u001b[0mctx\u001b[0m\u001b[0;34m.\u001b[0m\u001b[0mensure_initialized\u001b[0m\u001b[0;34m(\u001b[0m\u001b[0;34m)\u001b[0m\u001b[0;34m\u001b[0m\u001b[0;34m\u001b[0m\u001b[0m\n\u001b[0;32m---> 59\u001b[0;31m     tensors = pywrap_tfe.TFE_Py_Execute(ctx._handle, device_name, op_name,\n\u001b[0m\u001b[1;32m     60\u001b[0m                                         inputs, attrs, num_outputs)\n\u001b[1;32m     61\u001b[0m   \u001b[0;32mexcept\u001b[0m \u001b[0mcore\u001b[0m\u001b[0;34m.\u001b[0m\u001b[0m_NotOkStatusException\u001b[0m \u001b[0;32mas\u001b[0m \u001b[0me\u001b[0m\u001b[0;34m:\u001b[0m\u001b[0;34m\u001b[0m\u001b[0;34m\u001b[0m\u001b[0m\n",
      "\u001b[0;31mKeyboardInterrupt\u001b[0m: "
     ]
    }
   ],
   "source": [
    "batch_size = 32\n",
    "train_generator = data_generator(train_samples,batch_size = 32)\n",
    "\n",
    "model.fit(\n",
    "    train_generator,\n",
    "    steps_per_epoch=num_train_samples // batch_size,\n",
    "    epochs = 2,\n",
    ")"
   ]
  },
  {
   "cell_type": "code",
   "execution_count": null,
   "id": "feaf94e3",
   "metadata": {},
   "outputs": [],
   "source": []
  }
 ],
 "metadata": {
  "kernelspec": {
   "display_name": "Python 3",
   "language": "python",
   "name": "python3"
  },
  "language_info": {
   "codemirror_mode": {
    "name": "ipython",
    "version": 3
   },
   "file_extension": ".py",
   "mimetype": "text/x-python",
   "name": "python",
   "nbconvert_exporter": "python",
   "pygments_lexer": "ipython3",
   "version": "3.8.10"
  }
 },
 "nbformat": 4,
 "nbformat_minor": 5
}
