{
 "cells": [
  {
   "cell_type": "code",
   "execution_count": 1,
   "id": "9e268012",
   "metadata": {},
   "outputs": [],
   "source": [
    "import os"
   ]
  },
  {
   "cell_type": "code",
   "execution_count": 30,
   "id": "66bd0809",
   "metadata": {},
   "outputs": [],
   "source": [
    "fakedata_src = os.path.join(os.getcwd()+'/dataset/fake')\n",
    "realdata_src = os.path.join(os.getcwd()+'/dataset/real')"
   ]
  },
  {
   "cell_type": "code",
   "execution_count": 3,
   "id": "5938a035",
   "metadata": {},
   "outputs": [],
   "source": [
    "# filetag = \"fake\" for fake videos and \"real\" for real videos\n",
    "def renamefiles(filepath,filetag):\n",
    "    files = os.listdir(filepath)\n",
    "    print(len(files))\n",
    "    count = 0\n",
    "    for filename in files:\n",
    "        s = '%04d' % count\n",
    "        dst = filetag+\"_\"+ s +\".mp4\"\n",
    "        src = filepath+'/'+filename\n",
    "        dest = filepath+'/'+dst\n",
    "        os.rename(src,dest)\n",
    "        count+=1\n",
    "    print(f\"{count} Files renamed Successfully\")"
   ]
  },
  {
   "cell_type": "code",
   "execution_count": 4,
   "id": "ea9cb711",
   "metadata": {},
   "outputs": [
    {
     "name": "stdout",
     "output_type": "stream",
     "text": [
      "5639\n",
      "5639 Files renamed Successfully\n"
     ]
    }
   ],
   "source": [
    "renamefiles(fakedata_src,\"fake\")"
   ]
  },
  {
   "cell_type": "code",
   "execution_count": 5,
   "id": "13e1bb41",
   "metadata": {},
   "outputs": [
    {
     "name": "stdout",
     "output_type": "stream",
     "text": [
      "890\n",
      "890 Files renamed Successfully\n"
     ]
    }
   ],
   "source": [
    "renamefiles(realdata_src,\"real\")"
   ]
  },
  {
   "cell_type": "code",
   "execution_count": 6,
   "id": "c684176b",
   "metadata": {},
   "outputs": [],
   "source": [
    "import shutil"
   ]
  },
  {
   "cell_type": "code",
   "execution_count": 8,
   "id": "1f2dc9ee",
   "metadata": {},
   "outputs": [],
   "source": [
    "files = os.listdir(fakedata_src)"
   ]
  },
  {
   "cell_type": "code",
   "execution_count": 9,
   "id": "edfda7ca",
   "metadata": {},
   "outputs": [
    {
     "data": {
      "text/plain": [
       "5639"
      ]
     },
     "execution_count": 9,
     "metadata": {},
     "output_type": "execute_result"
    }
   ],
   "source": [
    "len(files)"
   ]
  },
  {
   "cell_type": "code",
   "execution_count": 14,
   "id": "ac4b24de",
   "metadata": {},
   "outputs": [],
   "source": [
    "files.sort()"
   ]
  },
  {
   "cell_type": "code",
   "execution_count": 23,
   "id": "565dfa65",
   "metadata": {},
   "outputs": [],
   "source": [
    "train_fake_len = (len(files)*70)//100\n",
    "test_fake_len = len(files) - train_len"
   ]
  },
  {
   "cell_type": "code",
   "execution_count": 24,
   "id": "706ece74",
   "metadata": {},
   "outputs": [
    {
     "name": "stdout",
     "output_type": "stream",
     "text": [
      "3947\n",
      "1692\n"
     ]
    }
   ],
   "source": [
    "print(train_fake_len)\n",
    "print(test_fake_len)"
   ]
  },
  {
   "cell_type": "code",
   "execution_count": 38,
   "id": "d2ad4d6c",
   "metadata": {},
   "outputs": [],
   "source": [
    "src_filepath = fakedata_src\n",
    "dest_filepath = os.path.join(os.getcwd()+'/dataset/train/fake')\n",
    "\n",
    "for file in files[:train_fake_len]:\n",
    "    src = src_filepath+'/'+file\n",
    "    dest = dest_filepath+'/'+file\n",
    "    shutil.copy(src,dest)"
   ]
  },
  {
   "cell_type": "code",
   "execution_count": 37,
   "id": "cefe4835",
   "metadata": {},
   "outputs": [
    {
     "name": "stdout",
     "output_type": "stream",
     "text": [
      "/home/sreejan774/Desktop/projects/MinorCodes/dataset/fake\n",
      "/home/sreejan774/Desktop/projects/MinorCodes/dataset/train/fake\n"
     ]
    }
   ],
   "source": [
    "print(src)\n",
    "print(dest)"
   ]
  },
  {
   "cell_type": "code",
   "execution_count": 39,
   "id": "86687d85",
   "metadata": {},
   "outputs": [],
   "source": [
    "src_filepath = fakedata_src\n",
    "dest_filepath = os.path.join(os.getcwd()+'/dataset/test/fake')\n",
    "\n",
    "for file in files[train_fake_len:]:\n",
    "    src = src_filepath+'/'+file\n",
    "    dest = dest_filepath+'/'+file\n",
    "    shutil.copy(src,dest)"
   ]
  },
  {
   "cell_type": "code",
   "execution_count": 40,
   "id": "229b9e75",
   "metadata": {},
   "outputs": [],
   "source": [
    "files = os.listdir(realdata_src)"
   ]
  },
  {
   "cell_type": "code",
   "execution_count": 41,
   "id": "c3e4ab6b",
   "metadata": {},
   "outputs": [],
   "source": [
    "files.sort()"
   ]
  },
  {
   "cell_type": "code",
   "execution_count": 43,
   "id": "ae86a10f",
   "metadata": {},
   "outputs": [],
   "source": [
    "#files"
   ]
  },
  {
   "cell_type": "code",
   "execution_count": 47,
   "id": "1cd30e39",
   "metadata": {},
   "outputs": [],
   "source": [
    "train_real_len = (len(files)*70)//100\n",
    "test_real_len = len(files) - train_real_len"
   ]
  },
  {
   "cell_type": "code",
   "execution_count": 53,
   "id": "a0d8280f",
   "metadata": {},
   "outputs": [
    {
     "name": "stdout",
     "output_type": "stream",
     "text": [
      "623\n",
      "267\n"
     ]
    },
    {
     "data": {
      "text/plain": [
       "890"
      ]
     },
     "execution_count": 53,
     "metadata": {},
     "output_type": "execute_result"
    }
   ],
   "source": [
    "print(train_real_len)\n",
    "print(test_real_len)\n",
    "len(files)"
   ]
  },
  {
   "cell_type": "code",
   "execution_count": 52,
   "id": "8250acbb",
   "metadata": {},
   "outputs": [],
   "source": [
    "src_filepath = realdata_src\n",
    "dest_filepath = os.path.join(os.getcwd()+'/dataset/train/real')\n",
    "\n",
    "for file in files[:train_real_len]:\n",
    "    src = src_filepath+'/'+file\n",
    "    dest = dest_filepath+'/'+file\n",
    "    shutil.copy(src,dest)"
   ]
  },
  {
   "cell_type": "code",
   "execution_count": 54,
   "id": "30212c09",
   "metadata": {},
   "outputs": [],
   "source": [
    "src_filepath = realdata_src\n",
    "dest_filepath = os.path.join(os.getcwd()+'/dataset/test/real')\n",
    "\n",
    "for file in files[train_real_len:]:\n",
    "    src = src_filepath+'/'+file\n",
    "    dest = dest_filepath+'/'+file\n",
    "    shutil.copy(src,dest)"
   ]
  },
  {
   "cell_type": "code",
   "execution_count": 56,
   "id": "a175c5cb",
   "metadata": {},
   "outputs": [
    {
     "name": "stdout",
     "output_type": "stream",
     "text": [
      "3947\n",
      "3947 Files renamed Successfully\n"
     ]
    }
   ],
   "source": [
    "file_path = os.path.join(os.getcwd()+'/dataset/train/fake')\n",
    "file_tag = \"fake_train\"\n",
    "renamefiles(file_path,file_tag)"
   ]
  },
  {
   "cell_type": "code",
   "execution_count": 57,
   "id": "19e9d7b9",
   "metadata": {},
   "outputs": [
    {
     "name": "stdout",
     "output_type": "stream",
     "text": [
      "623\n",
      "623 Files renamed Successfully\n"
     ]
    }
   ],
   "source": [
    "file_path = os.path.join(os.getcwd()+'/dataset/train/real')\n",
    "file_tag = \"real_train\"\n",
    "renamefiles(file_path,file_tag)"
   ]
  },
  {
   "cell_type": "code",
   "execution_count": 58,
   "id": "24e584bb",
   "metadata": {},
   "outputs": [
    {
     "name": "stdout",
     "output_type": "stream",
     "text": [
      "1692\n",
      "1692 Files renamed Successfully\n"
     ]
    }
   ],
   "source": [
    "file_path = os.path.join(os.getcwd()+'/dataset/test/fake')\n",
    "file_tag = \"fake_test\"\n",
    "renamefiles(file_path,file_tag)"
   ]
  },
  {
   "cell_type": "code",
   "execution_count": 59,
   "id": "8f6c9017",
   "metadata": {},
   "outputs": [
    {
     "name": "stdout",
     "output_type": "stream",
     "text": [
      "267\n",
      "267 Files renamed Successfully\n"
     ]
    }
   ],
   "source": [
    "file_path = os.path.join(os.getcwd()+'/dataset/test/real')\n",
    "file_tag = \"real_test\"\n",
    "renamefiles(file_path,file_tag)"
   ]
  },
  {
   "cell_type": "code",
   "execution_count": null,
   "id": "f01ff09f",
   "metadata": {},
   "outputs": [],
   "source": []
  }
 ],
 "metadata": {
  "kernelspec": {
   "display_name": "Python 3",
   "language": "python",
   "name": "python3"
  },
  "language_info": {
   "codemirror_mode": {
    "name": "ipython",
    "version": 3
   },
   "file_extension": ".py",
   "mimetype": "text/x-python",
   "name": "python",
   "nbconvert_exporter": "python",
   "pygments_lexer": "ipython3",
   "version": "3.8.5"
  }
 },
 "nbformat": 4,
 "nbformat_minor": 5
}
