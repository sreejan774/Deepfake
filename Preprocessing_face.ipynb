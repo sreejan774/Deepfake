{
 "cells": [
  {
   "cell_type": "code",
   "execution_count": null,
   "id": "e7681fc0",
   "metadata": {},
   "outputs": [],
   "source": [
    "import os\n",
    "import cv2\n",
    "import numpy as np\n",
    "import face_recognition"
   ]
  },
  {
   "cell_type": "markdown",
   "id": "fd1fefa9",
   "metadata": {},
   "source": [
    "### This notebook grab the video and extract the frames having faces only\n",
    "\n",
    "- The face_preprocessing function takes the videos from input_path and saves the frames in Output path \n",
    "- It creates filename same as video name and creates two sub folders in it namely face and flow .\n",
    "- It only populates the face folder \n",
    "\n",
    "- The expected directory structure for the function is shown below\n",
    "\n",
    "<img src='directory_flow1.png'>\n",
    "\n",
    "- The expected output directory structure\n",
    "<img src='directory_flow2.png'>\n",
    "\n"
   ]
  },
  {
   "cell_type": "code",
   "execution_count": null,
   "id": "b3bf4db3",
   "metadata": {},
   "outputs": [],
   "source": [
    "os.getcwd()"
   ]
  },
  {
   "cell_type": "code",
   "execution_count": null,
   "id": "d750d8b4",
   "metadata": {},
   "outputs": [],
   "source": [
    "def preprocessing(input_path,output_path):\n",
    "    files = os.listdir(input_path)\n",
    "    files.sort()\n",
    "    print(f\"{len(files)} files found\")\n",
    "    videos = []\n",
    "    for file in files:\n",
    "        path = os.path.join(input_path + '/'+file)\n",
    "        videos.append(path)\n",
    "\n",
    "\n",
    "    videoCount = 0\n",
    "    for video in videos:\n",
    "        print('processing....' + video)\n",
    "        videoCount+=1\n",
    "\n",
    "        os.mkdir(os.path.join(output_path + '/'+ video.split('/')[-1]))\n",
    "        outputPath = os.path.join(output_path + '/'+ video.split('/')[-1] )\n",
    "        #print(outputPath)\n",
    "        os.mkdir(os.path.join(outputPath+'/face'))\n",
    "        os.mkdir(os.path.join(outputPath+'/flow'))\n",
    "        facePath = os.path.join(outputPath+'/face')\n",
    "        flowPath = os.path.join(outputPath+'/flow')\n",
    "\n",
    "\n",
    "        # Extracting face cropped video\n",
    "        cap = cv2.VideoCapture(video)\n",
    "\n",
    "\n",
    "        #read frames until a face is encountered\n",
    "        face_image = None\n",
    "        while(True):\n",
    "            ret, frame = cap.read()\n",
    "            if(ret == True):\n",
    "                face_image = face_recognition.face_locations(frame)\n",
    "                if(len(face_image) > 0):\n",
    "                    break\n",
    "\n",
    "\n",
    "        top,right,bottom,left = face_image[0]\n",
    "\n",
    "        boxleft = left -  30 if left-30 > 0 else left \n",
    "        boxright = right + 30 if right+30 < frame.shape[1]  else right\n",
    "        boxtop = top - 30 if top-30 > 0 else top\n",
    "        boxbottom = bottom + 30 if bottom+30 < frame.shape[0] else bottom\n",
    "\n",
    "        size = (640,360)\n",
    "\n",
    "        cv2.imwrite(\n",
    "            facePath+ '/' + '0000' +'.jpg',\n",
    "            cv2.resize(frame[boxtop:boxbottom,boxleft:boxright,:],size)\n",
    "        )\n",
    "\n",
    "        frameCount = 1\n",
    "\n",
    "        while(cap.isOpened()):\n",
    "            ret, frame = cap.read()\n",
    "            if ret == True:\n",
    "                try:\n",
    "                    face_image = face_recognition.face_locations(frame)\n",
    "                    if(len(face_image) > 0):\n",
    "                        top,right,bottom,left = face_image[0]\n",
    "\n",
    "                        if(top < boxtop or bottom > boxbottom or right > boxright or left < boxleft):\n",
    "                            # update box\n",
    "                            boxtop = top - 30;\n",
    "                            boxright = right + 30\n",
    "                            boxleft = left - 30\n",
    "                            boxbottom = bottom + 30\n",
    "\n",
    "\n",
    "                        paddedCount = '%04d' % frameCount\n",
    "                        cv2.imwrite(\n",
    "                            facePath+'/'+ paddedCount +'.jpg',\n",
    "                            cv2.resize(frame[boxtop:boxbottom,boxleft:boxright,:],size)            \n",
    "                        )\n",
    "            \n",
    "                        frameCount+=1\n",
    "                        if frameCount == 120:\n",
    "                            break\n",
    "                except:\n",
    "                    print(\"Frame skipped\")\n",
    "                    pass\n",
    "\n",
    "            else:\n",
    "                break\n",
    "    print(f\"Processed {videoCount} videos\")\n",
    "\n",
    "\n",
    "    \n",
    "    "
   ]
  },
  {
   "cell_type": "code",
   "execution_count": null,
   "id": "8913c436",
   "metadata": {},
   "outputs": [],
   "source": [
    "#Create output directory manually\n",
    "#os.mkdir('Output')\n",
    "input_path = os.path.join(os.getcwd() + '/dataset/test/fake')\n",
    "output_path = os.path.join(os.getcwd()+'/Output')"
   ]
  },
  {
   "cell_type": "code",
   "execution_count": null,
   "id": "9bc99772",
   "metadata": {},
   "outputs": [],
   "source": [
    "preprocessing(input_path,output_path)"
   ]
  },
  {
   "cell_type": "code",
   "execution_count": null,
   "id": "a1f2228e",
   "metadata": {},
   "outputs": [],
   "source": []
  }
 ],
 "metadata": {
  "kernelspec": {
   "display_name": "Python 3",
   "language": "python",
   "name": "python3"
  },
  "language_info": {
   "codemirror_mode": {
    "name": "ipython",
    "version": 3
   },
   "file_extension": ".py",
   "mimetype": "text/x-python",
   "name": "python",
   "nbconvert_exporter": "python",
   "pygments_lexer": "ipython3",
   "version": "3.8.5"
  }
 },
 "nbformat": 4,
 "nbformat_minor": 5
}
