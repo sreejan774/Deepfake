{
 "cells": [
  {
   "cell_type": "code",
   "execution_count": 1,
   "id": "e7681fc0",
   "metadata": {},
   "outputs": [],
   "source": [
    "import os\n",
    "import cv2\n",
    "import numpy as np\n",
    "import face_recognition\n",
    "import concurrent.futures\n",
    "import multiprocessing"
   ]
  },
  {
   "cell_type": "markdown",
   "id": "fd1fefa9",
   "metadata": {},
   "source": [
    "### This notebook grab the video and extract the frames having faces only\n",
    "\n",
    "- The face_preprocessing function takes the videos from input_path and saves the frames in Output path \n",
    "- It creates filename same as video name and creates two sub folders in it namely face and flow .\n",
    "- It only populates the face folder \n",
    "\n",
    "- The expected directory structure for the function is shown below\n",
    "\n",
    "<img src='directory_flow1.png'>\n",
    "\n",
    "- The expected output directory structure\n",
    "<img src='directory_flow2.png'>\n",
    "\n"
   ]
  },
  {
   "cell_type": "code",
   "execution_count": 2,
   "id": "b3bf4db3",
   "metadata": {},
   "outputs": [
    {
     "data": {
      "text/plain": [
       "'/home/sreejan774/Desktop/projects/MinorCodes'"
      ]
     },
     "execution_count": 2,
     "metadata": {},
     "output_type": "execute_result"
    }
   ],
   "source": [
    "os.getcwd()"
   ]
  },
  {
   "cell_type": "code",
   "execution_count": 3,
   "id": "d750d8b4",
   "metadata": {},
   "outputs": [],
   "source": [
    "def extract_frames(video,output_path):\n",
    "    video_name = video.split('/')[-1]\n",
    "    os.mkdir(os.path.join(output_path + '/'+ video_name))\n",
    "    outputPath = os.path.join(output_path + '/'+ video_name)\n",
    "    #print(outputPath)\n",
    "    os.mkdir(os.path.join(outputPath+'/face'))\n",
    "    os.mkdir(os.path.join(outputPath+'/flow'))\n",
    "    facePath = os.path.join(outputPath+'/face')\n",
    "    flowPath = os.path.join(outputPath+'/flow')\n",
    "\n",
    "\n",
    "    # Extracting face cropped video\n",
    "    cap = cv2.VideoCapture(video)\n",
    "\n",
    "\n",
    "    # read frames until a face is encountered\n",
    "    # if no face is encountered then return\n",
    "    face_image = None\n",
    "    while(True):\n",
    "        print(f\"Detecting Face {video_name}\" )\n",
    "        ret, frame = cap.read()\n",
    "        if(ret == True):\n",
    "            face_image = face_recognition.face_locations(frame)\n",
    "            if(len(face_image) > 0):\n",
    "                break\n",
    "        else:\n",
    "            os.rmdir(os.path.join(outputPath+'/face'))\n",
    "            os.rmdir(os.path.join(outputPath+'/flow'))\n",
    "            os.rmdir(os.path.join(output_path + '/'+ video_name))\n",
    "            return f\"{video_name} is corrupted\"\n",
    "\n",
    "\n",
    "    top,right,bottom,left = face_image[0]\n",
    "\n",
    "    boxleft = left -  30 if left-30 > 0 else left \n",
    "    boxright = right + 30 if right+30 < frame.shape[1]  else right\n",
    "    boxtop = top - 30 if top-30 > 0 else top\n",
    "    boxbottom = bottom + 30 if bottom+30 < frame.shape[0] else bottom\n",
    "\n",
    "    size = (640,360)\n",
    "\n",
    "    cv2.imwrite(\n",
    "        facePath+ '/' + '0000' +'.jpg',\n",
    "        cv2.resize(frame[boxtop:boxbottom,boxleft:boxright,:],size)\n",
    "    )\n",
    "\n",
    "    frameCount = 1\n",
    "\n",
    "    while(cap.isOpened()):\n",
    "        ret, frame = cap.read()\n",
    "        if ret == True:\n",
    "            try:\n",
    "                face_image = face_recognition.face_locations(frame)\n",
    "                if(len(face_image) > 0):\n",
    "                    top,right,bottom,left = face_image[0]\n",
    "\n",
    "                    if(top < boxtop or bottom > boxbottom or right > boxright or left < boxleft):\n",
    "                        # update box\n",
    "                        boxtop = top - 30;\n",
    "                        boxright = right + 30\n",
    "                        boxleft = left - 30\n",
    "                        boxbottom = bottom + 30\n",
    "\n",
    "\n",
    "                    paddedCount = '%04d' % frameCount\n",
    "                    cv2.imwrite(\n",
    "                        facePath+'/'+ paddedCount +'.jpg',\n",
    "                        cv2.resize(frame[boxtop:boxbottom,boxleft:boxright,:],size)            \n",
    "                    )\n",
    "\n",
    "                    frameCount+=1\n",
    "                    if frameCount == 120:\n",
    "                        break\n",
    "            except:\n",
    "                print(\"Frame skipped\")\n",
    "                pass\n",
    "\n",
    "        else:\n",
    "            break\n",
    "    \n",
    "    return f\"Processed {video} \\n\"\n"
   ]
  },
  {
   "cell_type": "code",
   "execution_count": 4,
   "id": "4f6d821e",
   "metadata": {},
   "outputs": [],
   "source": [
    "def preprocessing(input_path,output_path):\n",
    "    files = os.listdir(input_path)\n",
    "    files.sort()\n",
    "    videos = []\n",
    "    for file in files:\n",
    "        path = os.path.join(input_path + '/'+file)\n",
    "        videos.append(path)\n",
    "    \n",
    "    with concurrent.futures.ProcessPoolExecutor(max_workers=multiprocessing.cpu_count()) as executor:\n",
    "        results = [executor.submit(extract_frames,video,output_path) for video in videos]\n",
    "        \n",
    "        for f in concurrent.futures.as_completed(results):\n",
    "            print(f.result())\n",
    "            \n",
    "    print(\"Done Processing\")"
   ]
  },
  {
   "cell_type": "code",
   "execution_count": null,
   "id": "8913c436",
   "metadata": {
    "scrolled": true
   },
   "outputs": [],
   "source": [
    "#Create output directory manually\n",
    "#os.mkdir('Output')\n",
    "import time \n",
    "\n",
    "start = time.perf_counter()\n",
    "\n",
    "input_path = \"/home/sreejan774/Desktop/projects/MinorCodes/input\"\n",
    "output_path = \"/home/sreejan774/Desktop/projects/MinorCodes/output\"\n",
    "preprocessing(input_path,output_path)\n",
    "\n",
    "finish = time.perf_counter()\n",
    "print(f\"Finished in {round(finish-start,2)} secounds\")"
   ]
  },
  {
   "cell_type": "code",
   "execution_count": null,
   "id": "94e9cd4b",
   "metadata": {},
   "outputs": [],
   "source": []
  }
 ],
 "metadata": {
  "kernelspec": {
   "display_name": "Python 3",
   "language": "python",
   "name": "python3"
  },
  "language_info": {
   "codemirror_mode": {
    "name": "ipython",
    "version": 3
   },
   "file_extension": ".py",
   "mimetype": "text/x-python",
   "name": "python",
   "nbconvert_exporter": "python",
   "pygments_lexer": "ipython3",
   "version": "3.8.10"
  }
 },
 "nbformat": 4,
 "nbformat_minor": 5
}
