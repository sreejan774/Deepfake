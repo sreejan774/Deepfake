{
 "cells": [
  {
   "cell_type": "code",
   "execution_count": 2,
   "id": "949cfc42",
   "metadata": {},
   "outputs": [],
   "source": [
    "import cv2\n",
    "import numpy as np"
   ]
  },
  {
   "cell_type": "code",
   "execution_count": 3,
   "id": "e06f41b4",
   "metadata": {},
   "outputs": [],
   "source": []
  },
  {
   "cell_type": "code",
   "execution_count": null,
   "id": "a6aed716",
   "metadata": {},
   "outputs": [],
   "source": []
  },
  {
   "cell_type": "code",
   "execution_count": 12,
   "id": "b8e15dff",
   "metadata": {},
   "outputs": [],
   "source": [
    "cap = cv2.VideoCapture('sample.mp4')\n",
    " \n",
    "fourcc = cv2.VideoWriter_fourcc(*'XVID')\n",
    "\n",
    "size = (640,360)\n",
    "fps = 30\n",
    "out = cv2.VideoWriter('output1.avi',cv2.VideoWriter_fourcc('M','J','P','G'),fps,size)\n",
    " \n",
    "while True:\n",
    "    ret, frame = cap.read()\n",
    "    if ret == True:\n",
    "        frame = cv2.resize(frame,size)\n",
    "        out.write(frame)\n",
    "    else:\n",
    "        break\n",
    "    \n",
    "cap.release()\n",
    "out.release()\n",
    "cv2.destroyAllWindows()"
   ]
  },
  {
   "cell_type": "code",
   "execution_count": 16,
   "id": "7533072f",
   "metadata": {},
   "outputs": [],
   "source": [
    "cap = cv2.VideoCapture('output1.avi')"
   ]
  },
  {
   "cell_type": "code",
   "execution_count": 17,
   "id": "b4ec0a3f",
   "metadata": {},
   "outputs": [],
   "source": [
    "ret,frame = cap.read()"
   ]
  },
  {
   "cell_type": "code",
   "execution_count": 18,
   "id": "ad9fac56",
   "metadata": {},
   "outputs": [
    {
     "data": {
      "text/plain": [
       "(360, 640, 3)"
      ]
     },
     "execution_count": 18,
     "metadata": {},
     "output_type": "execute_result"
    }
   ],
   "source": [
    "frame.shape"
   ]
  },
  {
   "cell_type": "code",
   "execution_count": null,
   "id": "59302748",
   "metadata": {},
   "outputs": [],
   "source": []
  }
 ],
 "metadata": {
  "kernelspec": {
   "display_name": "Python 3",
   "language": "python",
   "name": "python3"
  },
  "language_info": {
   "codemirror_mode": {
    "name": "ipython",
    "version": 3
   },
   "file_extension": ".py",
   "mimetype": "text/x-python",
   "name": "python",
   "nbconvert_exporter": "python",
   "pygments_lexer": "ipython3",
   "version": "3.8.5"
  }
 },
 "nbformat": 4,
 "nbformat_minor": 5
}
