{
 "cells": [
  {
   "cell_type": "code",
   "execution_count": null,
   "id": "dba06527",
   "metadata": {},
   "outputs": [],
   "source": [
    "import os\n",
    "import cv2\n",
    "import numpy as np"
   ]
  },
  {
   "cell_type": "code",
   "execution_count": null,
   "id": "56906d27",
   "metadata": {},
   "outputs": [],
   "source": [
    "path = os.getcwd()"
   ]
  },
  {
   "cell_type": "code",
   "execution_count": null,
   "id": "3ca5d812",
   "metadata": {},
   "outputs": [],
   "source": [
    "def generate_flow(path):\n",
    "    codePath = os.path.join(os.getcwd()+'/RAFT/core/inference.py')\n",
    "    modelPath = os.path.join(os.getcwd()+'/RAFT/core/models/raft-small.pth') \n",
    "    \n",
    "    ! python3 {codePath} --model {modelPath} --videoframepath {path} --small"
   ]
  },
  {
   "cell_type": "code",
   "execution_count": null,
   "id": "4f7a2225",
   "metadata": {},
   "outputs": [],
   "source": [
    "def preprocessing(input_path):\n",
    "    \n",
    "    folders = os.listdir(input_path)\n",
    "    folders.sort()\n",
    "    face_folder_path = []\n",
    "    for folder in folders:\n",
    "        face_folder_path.append(os.path.join(input_path+'/'+folder+'/face'))\n",
    "        \n",
    "    count = 0\n",
    "    print(f\"Total {len(face_folder_path)} files to process\")\n",
    "    for path in face_folder_path:\n",
    "        print(\"processing....File...\"+str(count))\n",
    "        generate_flow(path)\n",
    "        count+=1\n",
    "    print(f\"Processed {count} files\")"
   ]
  },
  {
   "cell_type": "code",
   "execution_count": null,
   "id": "a34c0201",
   "metadata": {},
   "outputs": [],
   "source": [
    "# Output directory name should be strictly output\n",
    "# later rename it according to the batch provided \n",
    "os.mkdir(\"output\")\n",
    "input_path = os.path.join(os.getcwd()+ \"/input\")\n",
    "preprocessing(input_path)"
   ]
  },
  {
   "cell_type": "code",
   "execution_count": null,
   "id": "f8a5fd0b",
   "metadata": {},
   "outputs": [],
   "source": [
    "def delete_input_directory(directory_path):\n",
    "    files = os.listdir(directory_path)\n",
    "    face_files = [directory_path+'/'+file+'/face' for file in files]\n",
    "    flow_dirs = [directory_path + '/'+ file+'/flow' for file in files]\n",
    "    for flow_dir in flow_dirs:\n",
    "        os.rmdir(flow_dir)\n",
    "\n",
    "    for face_file in face_files:\n",
    "        files = os.listdir(face_file)\n",
    "        files_path = [face_file +'/'+ file for file in files]\n",
    "        for file_path in files_path:\n",
    "            os.remove(file_path)\n",
    "        os.rmdir(face_file)\n",
    "\n",
    "    files = os.listdir(directory_path)\n",
    "    files = [directory_path + '/'+file for file in files]\n",
    "    for file in files:\n",
    "        os.rmdir(file)\n",
    "    os.rmdir(directory_path)\n",
    "    print(f\"successfully deleted {directory_path}\")"
   ]
  },
  {
   "cell_type": "code",
   "execution_count": null,
   "id": "ee729cda",
   "metadata": {},
   "outputs": [],
   "source": [
    "input_path = os.path.join(os.getcwd()+ \"/input\")\n",
    "delete_input_directory(input_path)"
   ]
  },
  {
   "cell_type": "code",
   "execution_count": null,
   "id": "2206d391",
   "metadata": {},
   "outputs": [],
   "source": [
    "def delete_output_directory(directory_path):\n",
    "    directory_path = os.path.join(os.getcwd()+ \"/output\")\n",
    "    files = os.listdir(directory_path)\n",
    "    files_path = [directory_path+'/'+file for file in files]\n",
    "\n",
    "    for file in files_path:\n",
    "        flow_imgs = os.listdir(file)\n",
    "        flow_imgs_path = [file+'/'+flow_img for flow_img in flow_imgs]\n",
    "        for img in flow_imgs_path:\n",
    "            os.remove(img)\n",
    "        os.rmdir(file)\n",
    "    os.rmdir(directory_path)\n",
    "    print(f\"successfully deleted {directory_path}\")"
   ]
  },
  {
   "cell_type": "code",
   "execution_count": null,
   "id": "91bb247d",
   "metadata": {},
   "outputs": [],
   "source": [
    "output_path = os.path.join(os.getcwd()+ \"/output\")\n",
    "delete_output_directory(output_path)"
   ]
  },
  {
   "cell_type": "code",
   "execution_count": null,
   "id": "baca5991",
   "metadata": {},
   "outputs": [],
   "source": []
  }
 ],
 "metadata": {
  "kernelspec": {
   "display_name": "Python 3",
   "language": "python",
   "name": "python3"
  },
  "language_info": {
   "codemirror_mode": {
    "name": "ipython",
    "version": 3
   },
   "file_extension": ".py",
   "mimetype": "text/x-python",
   "name": "python",
   "nbconvert_exporter": "python",
   "pygments_lexer": "ipython3",
   "version": "3.8.10"
  }
 },
 "nbformat": 4,
 "nbformat_minor": 5
}
